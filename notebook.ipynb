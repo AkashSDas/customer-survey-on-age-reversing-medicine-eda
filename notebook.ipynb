{
 "cells": [
  {
   "cell_type": "markdown",
   "metadata": {
    "papermill": {
     "duration": 0.05042,
     "end_time": "2021-04-02T01:40:41.087586",
     "exception": false,
     "start_time": "2021-04-02T01:40:41.037166",
     "status": "completed"
    },
    "tags": []
   },
   "source": [
    "# Customer survey on age reversing medicine EDA\n",
    "\n",
    "The company `veva.co` sells a brand of supplements that support healthy ageing and longevity.\n",
    "\n",
    "This kernel is an in depth analysis of `206 response SurveyMonkey` which are provided by the company to identify the attributes of consumers who are most likely to buy their products, so that we can design an efficient marketing strategy, targeting the right channels, interest groups and demographies with a compelling message that delivers high return on marketing investment.\n",
    "\n",
    "You can read a `report` on the `findings` on my [GitHub](https://github.com/AkashSDas/customer-survey-on-age-reversing-medicine-eda) account and the `dataset` is available on [Kaggle](https://www.kaggle.com/akashsdas/customer-survey-on-age-reversing-medicine).\n",
    "\n",
    "![](https://media.giphy.com/media/GrUhLU9q3nyRG/giphy.gif)"
   ]
  },
  {
   "cell_type": "code",
   "execution_count": 1,
   "metadata": {
    "execution": {
     "iopub.execute_input": "2021-04-02T01:40:41.189201Z",
     "iopub.status.busy": "2021-04-02T01:40:41.188489Z",
     "iopub.status.idle": "2021-04-02T01:40:42.210158Z",
     "shell.execute_reply": "2021-04-02T01:40:42.209421Z"
    },
    "papermill": {
     "duration": 1.075964,
     "end_time": "2021-04-02T01:40:42.210384",
     "exception": false,
     "start_time": "2021-04-02T01:40:41.134420",
     "status": "completed"
    },
    "tags": []
   },
   "outputs": [],
   "source": [
    "import matplotlib.pyplot as plt\n",
    "import pandas as pd\n",
    "import seaborn as sns"
   ]
  },
  {
   "cell_type": "code",
   "execution_count": 2,
   "metadata": {
    "execution": {
     "iopub.execute_input": "2021-04-02T01:40:42.308914Z",
     "iopub.status.busy": "2021-04-02T01:40:42.308255Z",
     "iopub.status.idle": "2021-04-02T01:40:53.888672Z",
     "shell.execute_reply": "2021-04-02T01:40:53.888083Z"
    },
    "papermill": {
     "duration": 11.631373,
     "end_time": "2021-04-02T01:40:53.888821",
     "exception": false,
     "start_time": "2021-04-02T01:40:42.257448",
     "status": "completed"
    },
    "tags": []
   },
   "outputs": [
    {
     "name": "stdout",
     "output_type": "stream",
     "text": [
      "Collecting openpyxl\r\n",
      "  Downloading openpyxl-3.0.7-py2.py3-none-any.whl (243 kB)\r\n",
      "\u001b[K     |████████████████████████████████| 243 kB 864 kB/s \r\n",
      "\u001b[?25hCollecting et-xmlfile\r\n",
      "  Downloading et_xmlfile-1.0.1.tar.gz (8.4 kB)\r\n",
      "Building wheels for collected packages: et-xmlfile\r\n",
      "  Building wheel for et-xmlfile (setup.py) ... \u001b[?25l-\b \b\\\b \bdone\r\n",
      "\u001b[?25h  Created wheel for et-xmlfile: filename=et_xmlfile-1.0.1-py3-none-any.whl size=8913 sha256=a83c96b03ff418d3b8b6cc922a021c827010c26ea8d27204288cc3933da84510\r\n",
      "  Stored in directory: /root/.cache/pip/wheels/e2/bd/55/048b4fd505716c4c298f42ee02dffd9496bb6d212b266c7f31\r\n",
      "Successfully built et-xmlfile\r\n",
      "Installing collected packages: et-xmlfile, openpyxl\r\n",
      "Successfully installed et-xmlfile-1.0.1 openpyxl-3.0.7\r\n"
     ]
    }
   ],
   "source": [
    "# ImportError: Missing optional dependency 'xlrd'. Install xlrd >= 1.0.0 for Excel support \n",
    "# Use pip or conda to install xlrd.\n",
    "\n",
    "# !pip install xlrd\n",
    "\n",
    "# ValueError: Your version of xlrd is 2.0.1. In xlrd >= 2.0, only the xls format is supported. \n",
    "# Install openpyxl instead.\n",
    "\n",
    "!pip install openpyxl"
   ]
  },
  {
   "cell_type": "code",
   "execution_count": 3,
   "metadata": {
    "execution": {
     "iopub.execute_input": "2021-04-02T01:40:53.997095Z",
     "iopub.status.busy": "2021-04-02T01:40:53.996411Z",
     "iopub.status.idle": "2021-04-02T01:40:54.778019Z",
     "shell.execute_reply": "2021-04-02T01:40:54.777389Z"
    },
    "papermill": {
     "duration": 0.838303,
     "end_time": "2021-04-02T01:40:54.778199",
     "exception": false,
     "start_time": "2021-04-02T01:40:53.939896",
     "status": "completed"
    },
    "tags": []
   },
   "outputs": [
    {
     "data": {
      "text/html": [
       "<div>\n",
       "<style scoped>\n",
       "    .dataframe tbody tr th:only-of-type {\n",
       "        vertical-align: middle;\n",
       "    }\n",
       "\n",
       "    .dataframe tbody tr th {\n",
       "        vertical-align: top;\n",
       "    }\n",
       "\n",
       "    .dataframe thead th {\n",
       "        text-align: right;\n",
       "    }\n",
       "</style>\n",
       "<table border=\"1\" class=\"dataframe\">\n",
       "  <thead>\n",
       "    <tr style=\"text-align: right;\">\n",
       "      <th></th>\n",
       "      <th>Collector ID</th>\n",
       "      <th>Start Date</th>\n",
       "      <th>End Date</th>\n",
       "      <th>IP Address</th>\n",
       "      <th>Email Address</th>\n",
       "      <th>First Name</th>\n",
       "      <th>Last Name</th>\n",
       "      <th>Custom Data 1</th>\n",
       "      <th>collector_type_source</th>\n",
       "      <th>custom_value8</th>\n",
       "      <th>...</th>\n",
       "      <th>Unnamed: 77</th>\n",
       "      <th>Unnamed: 78</th>\n",
       "      <th>Unnamed: 79</th>\n",
       "      <th>Unnamed: 80</th>\n",
       "      <th>Would you like to learn about ways to increase your lifespan and healthspan?</th>\n",
       "      <th>Age</th>\n",
       "      <th>Gender</th>\n",
       "      <th>Household Income</th>\n",
       "      <th>Region</th>\n",
       "      <th>Device Type</th>\n",
       "    </tr>\n",
       "    <tr>\n",
       "      <th>Respondent ID</th>\n",
       "      <th></th>\n",
       "      <th></th>\n",
       "      <th></th>\n",
       "      <th></th>\n",
       "      <th></th>\n",
       "      <th></th>\n",
       "      <th></th>\n",
       "      <th></th>\n",
       "      <th></th>\n",
       "      <th></th>\n",
       "      <th></th>\n",
       "      <th></th>\n",
       "      <th></th>\n",
       "      <th></th>\n",
       "      <th></th>\n",
       "      <th></th>\n",
       "      <th></th>\n",
       "      <th></th>\n",
       "      <th></th>\n",
       "      <th></th>\n",
       "      <th></th>\n",
       "    </tr>\n",
       "  </thead>\n",
       "  <tbody>\n",
       "    <tr>\n",
       "      <th>NaN</th>\n",
       "      <td>NaN</td>\n",
       "      <td>NaT</td>\n",
       "      <td>NaT</td>\n",
       "      <td>NaN</td>\n",
       "      <td>NaN</td>\n",
       "      <td>NaN</td>\n",
       "      <td>NaN</td>\n",
       "      <td>NaN</td>\n",
       "      <td>NaN</td>\n",
       "      <td>NaN</td>\n",
       "      <td>...</td>\n",
       "      <td>Technology - Wearables</td>\n",
       "      <td>Travel - General</td>\n",
       "      <td>Travel - Road trips</td>\n",
       "      <td>Other (please specify)</td>\n",
       "      <td>Response</td>\n",
       "      <td>Response</td>\n",
       "      <td>Response</td>\n",
       "      <td>Response</td>\n",
       "      <td>Response</td>\n",
       "      <td>Response</td>\n",
       "    </tr>\n",
       "    <tr>\n",
       "      <th>1.225055e+10</th>\n",
       "      <td>397836384.0</td>\n",
       "      <td>2020-12-11 14:57:31</td>\n",
       "      <td>2020-12-11 14:59:10</td>\n",
       "      <td>NaN</td>\n",
       "      <td>NaN</td>\n",
       "      <td>NaN</td>\n",
       "      <td>NaN</td>\n",
       "      <td>dad0c96e72515175075d280b8f</td>\n",
       "      <td>smc</td>\n",
       "      <td>NaN</td>\n",
       "      <td>...</td>\n",
       "      <td>NaN</td>\n",
       "      <td>Travel - General</td>\n",
       "      <td>NaN</td>\n",
       "      <td>NaN</td>\n",
       "      <td>Yes - Visit us at veva.co or write an email to...</td>\n",
       "      <td>18-29</td>\n",
       "      <td>Male</td>\n",
       "      <td>$0-$9,999</td>\n",
       "      <td>Pacific</td>\n",
       "      <td>iOS Phone / Tablet</td>\n",
       "    </tr>\n",
       "    <tr>\n",
       "      <th>1.225055e+10</th>\n",
       "      <td>397836384.0</td>\n",
       "      <td>2020-12-11 14:51:23</td>\n",
       "      <td>2020-12-11 14:56:51</td>\n",
       "      <td>NaN</td>\n",
       "      <td>NaN</td>\n",
       "      <td>NaN</td>\n",
       "      <td>NaN</td>\n",
       "      <td>c5855af0d1dbb8f8733e4416ac</td>\n",
       "      <td>smc</td>\n",
       "      <td>NaN</td>\n",
       "      <td>...</td>\n",
       "      <td>NaN</td>\n",
       "      <td>Travel - General</td>\n",
       "      <td>Travel - Road trips</td>\n",
       "      <td>NaN</td>\n",
       "      <td>Yes - Visit us at veva.co or write an email to...</td>\n",
       "      <td>&gt; 60</td>\n",
       "      <td>Female</td>\n",
       "      <td>$0-$9,999</td>\n",
       "      <td>Mountain</td>\n",
       "      <td>Android Phone / Tablet</td>\n",
       "    </tr>\n",
       "    <tr>\n",
       "      <th>1.225053e+10</th>\n",
       "      <td>397836384.0</td>\n",
       "      <td>2020-12-11 14:47:23</td>\n",
       "      <td>2020-12-11 14:48:36</td>\n",
       "      <td>NaN</td>\n",
       "      <td>NaN</td>\n",
       "      <td>NaN</td>\n",
       "      <td>NaN</td>\n",
       "      <td>b46b06a02e7de1eb37ddc8fb57</td>\n",
       "      <td>smc</td>\n",
       "      <td>NaN</td>\n",
       "      <td>...</td>\n",
       "      <td>NaN</td>\n",
       "      <td>NaN</td>\n",
       "      <td>NaN</td>\n",
       "      <td>NaN</td>\n",
       "      <td>No</td>\n",
       "      <td>45-60</td>\n",
       "      <td>Female</td>\n",
       "      <td>$75,000-$99,999</td>\n",
       "      <td>Middle Atlantic</td>\n",
       "      <td>iOS Phone / Tablet</td>\n",
       "    </tr>\n",
       "    <tr>\n",
       "      <th>1.225052e+10</th>\n",
       "      <td>397836384.0</td>\n",
       "      <td>2020-12-11 14:43:38</td>\n",
       "      <td>2020-12-11 14:44:36</td>\n",
       "      <td>NaN</td>\n",
       "      <td>NaN</td>\n",
       "      <td>NaN</td>\n",
       "      <td>NaN</td>\n",
       "      <td>c317ba8b7402b71abb8df36fe2</td>\n",
       "      <td>smc</td>\n",
       "      <td>NaN</td>\n",
       "      <td>...</td>\n",
       "      <td>NaN</td>\n",
       "      <td>NaN</td>\n",
       "      <td>NaN</td>\n",
       "      <td>NaN</td>\n",
       "      <td>No</td>\n",
       "      <td>30-44</td>\n",
       "      <td>Male</td>\n",
       "      <td>$50,000-$74,999</td>\n",
       "      <td>West North Central</td>\n",
       "      <td>Android Phone / Tablet</td>\n",
       "    </tr>\n",
       "  </tbody>\n",
       "</table>\n",
       "<p>5 rows × 86 columns</p>\n",
       "</div>"
      ],
      "text/plain": [
       "               Collector ID          Start Date            End Date  \\\n",
       "Respondent ID                                                         \n",
       "NaN                     NaN                 NaT                 NaT   \n",
       "1.225055e+10    397836384.0 2020-12-11 14:57:31 2020-12-11 14:59:10   \n",
       "1.225055e+10    397836384.0 2020-12-11 14:51:23 2020-12-11 14:56:51   \n",
       "1.225053e+10    397836384.0 2020-12-11 14:47:23 2020-12-11 14:48:36   \n",
       "1.225052e+10    397836384.0 2020-12-11 14:43:38 2020-12-11 14:44:36   \n",
       "\n",
       "               IP Address  Email Address  First Name  Last Name  \\\n",
       "Respondent ID                                                     \n",
       "NaN                   NaN            NaN         NaN        NaN   \n",
       "1.225055e+10          NaN            NaN         NaN        NaN   \n",
       "1.225055e+10          NaN            NaN         NaN        NaN   \n",
       "1.225053e+10          NaN            NaN         NaN        NaN   \n",
       "1.225052e+10          NaN            NaN         NaN        NaN   \n",
       "\n",
       "                            Custom Data 1 collector_type_source  \\\n",
       "Respondent ID                                                     \n",
       "NaN                                   NaN                   NaN   \n",
       "1.225055e+10   dad0c96e72515175075d280b8f                   smc   \n",
       "1.225055e+10   c5855af0d1dbb8f8733e4416ac                   smc   \n",
       "1.225053e+10   b46b06a02e7de1eb37ddc8fb57                   smc   \n",
       "1.225052e+10   c317ba8b7402b71abb8df36fe2                   smc   \n",
       "\n",
       "               custom_value8  ...             Unnamed: 77       Unnamed: 78  \\\n",
       "Respondent ID                 ...                                             \n",
       "NaN                      NaN  ...  Technology - Wearables  Travel - General   \n",
       "1.225055e+10             NaN  ...                     NaN  Travel - General   \n",
       "1.225055e+10             NaN  ...                     NaN  Travel - General   \n",
       "1.225053e+10             NaN  ...                     NaN               NaN   \n",
       "1.225052e+10             NaN  ...                     NaN               NaN   \n",
       "\n",
       "                       Unnamed: 79             Unnamed: 80  \\\n",
       "Respondent ID                                                \n",
       "NaN            Travel - Road trips  Other (please specify)   \n",
       "1.225055e+10                   NaN                     NaN   \n",
       "1.225055e+10   Travel - Road trips                     NaN   \n",
       "1.225053e+10                   NaN                     NaN   \n",
       "1.225052e+10                   NaN                     NaN   \n",
       "\n",
       "              Would you like to learn about ways to increase your lifespan and healthspan?  \\\n",
       "Respondent ID                                                                                \n",
       "NaN                                                     Response                             \n",
       "1.225055e+10   Yes - Visit us at veva.co or write an email to...                             \n",
       "1.225055e+10   Yes - Visit us at veva.co or write an email to...                             \n",
       "1.225053e+10                                                  No                             \n",
       "1.225052e+10                                                  No                             \n",
       "\n",
       "                    Age    Gender Household Income              Region  \\\n",
       "Respondent ID                                                            \n",
       "NaN            Response  Response         Response            Response   \n",
       "1.225055e+10      18-29      Male        $0-$9,999             Pacific   \n",
       "1.225055e+10       > 60    Female        $0-$9,999            Mountain   \n",
       "1.225053e+10      45-60    Female  $75,000-$99,999     Middle Atlantic   \n",
       "1.225052e+10      30-44      Male  $50,000-$74,999  West North Central   \n",
       "\n",
       "                          Device Type  \n",
       "Respondent ID                          \n",
       "NaN                          Response  \n",
       "1.225055e+10       iOS Phone / Tablet  \n",
       "1.225055e+10   Android Phone / Tablet  \n",
       "1.225053e+10       iOS Phone / Tablet  \n",
       "1.225052e+10   Android Phone / Tablet  \n",
       "\n",
       "[5 rows x 86 columns]"
      ]
     },
     "execution_count": 3,
     "metadata": {},
     "output_type": "execute_result"
    }
   ],
   "source": [
    "# Loading the dataset\n",
    "dataset_path = '../input/customer-survey-on-age-reversing-medicine/data.xlsx'\n",
    "df = pd.read_excel(dataset_path, index_col=0)\n",
    "df.head()"
   ]
  },
  {
   "cell_type": "markdown",
   "metadata": {
    "papermill": {
     "duration": 0.062304,
     "end_time": "2021-04-02T01:40:54.906255",
     "exception": false,
     "start_time": "2021-04-02T01:40:54.843951",
     "status": "completed"
    },
    "tags": []
   },
   "source": [
    "## 🪂 Data preparation"
   ]
  },
  {
   "cell_type": "code",
   "execution_count": 4,
   "metadata": {
    "execution": {
     "iopub.execute_input": "2021-04-02T01:40:55.024048Z",
     "iopub.status.busy": "2021-04-02T01:40:55.023308Z",
     "iopub.status.idle": "2021-04-02T01:40:55.027682Z",
     "shell.execute_reply": "2021-04-02T01:40:55.028177Z"
    },
    "papermill": {
     "duration": 0.069391,
     "end_time": "2021-04-02T01:40:55.028372",
     "exception": false,
     "start_time": "2021-04-02T01:40:54.958981",
     "status": "completed"
    },
    "tags": []
   },
   "outputs": [],
   "source": [
    "# Refactoring the column names\n",
    "def refactor_column_names(df, inplace=False):\n",
    "    first_headers = df.columns.tolist()\n",
    "\n",
    "    # There are actually two headers, the 1st header is the actual header\n",
    "    # and the 2nd header is in the 1st row.\n",
    "    second_headers = df.iloc[0].tolist()\n",
    "\n",
    "    final_headers = []\n",
    "    for idx, header in enumerate(first_headers):\n",
    "        if ('Unnamed' in header):\n",
    "            final_headers.append(second_headers[idx])\n",
    "        else:\n",
    "            final_headers.append(header)\n",
    "\n",
    "    # changing the name of the header with the final headers\n",
    "    headers = {\n",
    "        header: final_headers[index]\n",
    "        for index, header in enumerate(first_headers)\n",
    "    }\n",
    "    return df.rename(columns=headers, inplace=inplace)\n",
    "\n",
    "\n",
    "refactor_column_names(df, True)"
   ]
  },
  {
   "cell_type": "code",
   "execution_count": 5,
   "metadata": {
    "execution": {
     "iopub.execute_input": "2021-04-02T01:40:55.183559Z",
     "iopub.status.busy": "2021-04-02T01:40:55.182448Z",
     "iopub.status.idle": "2021-04-02T01:40:55.186504Z",
     "shell.execute_reply": "2021-04-02T01:40:55.185585Z"
    },
    "papermill": {
     "duration": 0.086741,
     "end_time": "2021-04-02T01:40:55.186665",
     "exception": false,
     "start_time": "2021-04-02T01:40:55.099924",
     "status": "completed"
    },
    "tags": []
   },
   "outputs": [],
   "source": [
    "# Chaning the index\n",
    "df['Index'] = [i for i in range(len(df))]\n",
    "df.set_index('Index', inplace=True)\n",
    "\n",
    "# Removing the 1st row\n",
    "df.drop([0], inplace=True)"
   ]
  },
  {
   "cell_type": "code",
   "execution_count": 6,
   "metadata": {
    "execution": {
     "iopub.execute_input": "2021-04-02T01:40:55.314806Z",
     "iopub.status.busy": "2021-04-02T01:40:55.313737Z",
     "iopub.status.idle": "2021-04-02T01:40:55.316300Z",
     "shell.execute_reply": "2021-04-02T01:40:55.316786Z"
    },
    "papermill": {
     "duration": 0.064568,
     "end_time": "2021-04-02T01:40:55.316969",
     "exception": false,
     "start_time": "2021-04-02T01:40:55.252401",
     "status": "completed"
    },
    "tags": []
   },
   "outputs": [],
   "source": [
    "# Dropping unnecessary columns\n",
    "unnecessary_columns = [\n",
    "    'Collector ID',\n",
    "    'Start Date',\n",
    "    'End Date',\n",
    "    'IP Address',\n",
    "    'Email Address',\n",
    "    'First Name',\n",
    "    'Last Name',\n",
    "    'Custom Data 1',\n",
    "    'collector_type_source',\n",
    "    'custom_value8',\n",
    "    'custom_value9',\n",
    "    'custom_value7'\n",
    "]\n",
    "df.drop(unnecessary_columns, axis='columns', inplace=True)"
   ]
  },
  {
   "cell_type": "markdown",
   "metadata": {
    "papermill": {
     "duration": 0.054959,
     "end_time": "2021-04-02T01:40:55.433019",
     "exception": false,
     "start_time": "2021-04-02T01:40:55.378060",
     "status": "completed"
    },
    "tags": []
   },
   "source": [
    "### Cleaning column values"
   ]
  },
  {
   "cell_type": "code",
   "execution_count": 7,
   "metadata": {
    "execution": {
     "iopub.execute_input": "2021-04-02T01:40:55.544018Z",
     "iopub.status.busy": "2021-04-02T01:40:55.543049Z",
     "iopub.status.idle": "2021-04-02T01:40:55.549563Z",
     "shell.execute_reply": "2021-04-02T01:40:55.548981Z"
    },
    "papermill": {
     "duration": 0.062482,
     "end_time": "2021-04-02T01:40:55.549712",
     "exception": false,
     "start_time": "2021-04-02T01:40:55.487230",
     "status": "completed"
    },
    "tags": []
   },
   "outputs": [
    {
     "name": "stdout",
     "output_type": "stream",
     "text": [
      "74\n"
     ]
    }
   ],
   "source": [
    "df_columns = df.columns.tolist()\n",
    "print(len(df_columns))"
   ]
  },
  {
   "cell_type": "markdown",
   "metadata": {
    "papermill": {
     "duration": 0.0528,
     "end_time": "2021-04-02T01:40:55.655158",
     "exception": false,
     "start_time": "2021-04-02T01:40:55.602358",
     "status": "completed"
    },
    "tags": []
   },
   "source": [
    "`Column: One day, advances in science and medicine will stop or reverse the human ageing process`."
   ]
  },
  {
   "cell_type": "code",
   "execution_count": 8,
   "metadata": {
    "execution": {
     "iopub.execute_input": "2021-04-02T01:40:55.794990Z",
     "iopub.status.busy": "2021-04-02T01:40:55.794271Z",
     "iopub.status.idle": "2021-04-02T01:40:55.799517Z",
     "shell.execute_reply": "2021-04-02T01:40:55.798846Z"
    },
    "papermill": {
     "duration": 0.091752,
     "end_time": "2021-04-02T01:40:55.799664",
     "exception": false,
     "start_time": "2021-04-02T01:40:55.707912",
     "status": "completed"
    },
    "tags": []
   },
   "outputs": [],
   "source": [
    "def refactor_column_0(df, col_name):\n",
    "    column = df[col_name].tolist()\n",
    "    for idx, value in enumerate(column):\n",
    "        if type(value) != int:\n",
    "            df[col_name].iloc[idx] = int(value.split(' ')[0])\n",
    "        else:\n",
    "            df[col_name].iloc[idx] = value\n",
    "\n",
    "\n",
    "refactor_column_0(df, df_columns[0])"
   ]
  },
  {
   "cell_type": "markdown",
   "metadata": {
    "papermill": {
     "duration": 0.052396,
     "end_time": "2021-04-02T01:40:55.905094",
     "exception": false,
     "start_time": "2021-04-02T01:40:55.852698",
     "status": "completed"
    },
    "tags": []
   },
   "source": [
    "`Column: I believe vitamins, supplements, or medications available today can slow, stop or reverse the ageing process`."
   ]
  },
  {
   "cell_type": "code",
   "execution_count": 9,
   "metadata": {
    "execution": {
     "iopub.execute_input": "2021-04-02T01:40:56.042993Z",
     "iopub.status.busy": "2021-04-02T01:40:56.021923Z",
     "iopub.status.idle": "2021-04-02T01:40:56.048328Z",
     "shell.execute_reply": "2021-04-02T01:40:56.047682Z"
    },
    "papermill": {
     "duration": 0.090774,
     "end_time": "2021-04-02T01:40:56.048471",
     "exception": false,
     "start_time": "2021-04-02T01:40:55.957697",
     "status": "completed"
    },
    "tags": []
   },
   "outputs": [],
   "source": [
    "def refactor_column_1(df, col_name):\n",
    "    return refactor_column_0(df, col_name)\n",
    "\n",
    "\n",
    "refactor_column_1(df, df_columns[1])"
   ]
  },
  {
   "cell_type": "markdown",
   "metadata": {
    "papermill": {
     "duration": 0.052678,
     "end_time": "2021-04-02T01:40:56.153658",
     "exception": false,
     "start_time": "2021-04-02T01:40:56.100980",
     "status": "completed"
    },
    "tags": []
   },
   "source": [
    "`Column: If it were available today, the most I would spend on a supplement that slows, stops, or reverses my ageing`."
   ]
  },
  {
   "cell_type": "code",
   "execution_count": 10,
   "metadata": {
    "execution": {
     "iopub.execute_input": "2021-04-02T01:40:56.278233Z",
     "iopub.status.busy": "2021-04-02T01:40:56.277514Z",
     "iopub.status.idle": "2021-04-02T01:40:56.303328Z",
     "shell.execute_reply": "2021-04-02T01:40:56.302597Z"
    },
    "papermill": {
     "duration": 0.094534,
     "end_time": "2021-04-02T01:40:56.303482",
     "exception": false,
     "start_time": "2021-04-02T01:40:56.208948",
     "status": "completed"
    },
    "tags": []
   },
   "outputs": [],
   "source": [
    "def refactor_column_2(df, col_name):\n",
    "    column = df[col_name].tolist()\n",
    "    for idx, value in enumerate(column):\n",
    "        amount = [string for string in value.split(' ') if '$' in string][0]\n",
    "        amount = ''.join(amount.split('$'))\n",
    "        if ('/' in amount):\n",
    "            amount = ''.join(amount.split('/')[0])\n",
    "        df[col_name].iloc[idx] = int(amount)\n",
    "\n",
    "\n",
    "refactor_column_2(df, df_columns[2])"
   ]
  },
  {
   "cell_type": "markdown",
   "metadata": {
    "papermill": {
     "duration": 0.052543,
     "end_time": "2021-04-02T01:40:56.409017",
     "exception": false,
     "start_time": "2021-04-02T01:40:56.356474",
     "status": "completed"
    },
    "tags": []
   },
   "source": [
    "`Column: I tend to be among the first of my friends to try new products, services, technologies, etc`."
   ]
  },
  {
   "cell_type": "code",
   "execution_count": 11,
   "metadata": {
    "execution": {
     "iopub.execute_input": "2021-04-02T01:40:56.532648Z",
     "iopub.status.busy": "2021-04-02T01:40:56.527244Z",
     "iopub.status.idle": "2021-04-02T01:40:56.556616Z",
     "shell.execute_reply": "2021-04-02T01:40:56.555959Z"
    },
    "papermill": {
     "duration": 0.094335,
     "end_time": "2021-04-02T01:40:56.556956",
     "exception": false,
     "start_time": "2021-04-02T01:40:56.462621",
     "status": "completed"
    },
    "tags": []
   },
   "outputs": [],
   "source": [
    "def refactor_column_3(df, col_name):\n",
    "    return refactor_column_0(df, col_name)\n",
    "\n",
    "\n",
    "refactor_column_3(df, df_columns[3])"
   ]
  },
  {
   "cell_type": "markdown",
   "metadata": {
    "papermill": {
     "duration": 0.054112,
     "end_time": "2021-04-02T01:40:56.669517",
     "exception": false,
     "start_time": "2021-04-02T01:40:56.615405",
     "status": "completed"
    },
    "tags": []
   },
   "source": [
    "`Column: I am interested in the following`. This columns name should be `Beauty - General`."
   ]
  },
  {
   "cell_type": "code",
   "execution_count": 12,
   "metadata": {
    "execution": {
     "iopub.execute_input": "2021-04-02T01:40:56.787948Z",
     "iopub.status.busy": "2021-04-02T01:40:56.787255Z",
     "iopub.status.idle": "2021-04-02T01:40:56.812214Z",
     "shell.execute_reply": "2021-04-02T01:40:56.811613Z"
    },
    "papermill": {
     "duration": 0.090026,
     "end_time": "2021-04-02T01:40:56.812362",
     "exception": false,
     "start_time": "2021-04-02T01:40:56.722336",
     "status": "completed"
    },
    "tags": []
   },
   "outputs": [],
   "source": [
    "df.rename(columns={df_columns[4]: 'Beauty - General'}, inplace=True)\n",
    "df_columns = df.columns.tolist()  # updating column list\n",
    "\n",
    "\n",
    "def refactor_column_4(df, col_name):\n",
    "    column = df[col_name].tolist()\n",
    "    for idx, value in enumerate(column):\n",
    "        if type(value) == float:\n",
    "            df[col_name].iloc[idx] = 0\n",
    "        else:\n",
    "            df[col_name].iloc[idx] = 1\n",
    "\n",
    "\n",
    "refactor_column_4(df, df_columns[4])"
   ]
  },
  {
   "cell_type": "markdown",
   "metadata": {
    "papermill": {
     "duration": 0.054625,
     "end_time": "2021-04-02T01:40:56.920316",
     "exception": false,
     "start_time": "2021-04-02T01:40:56.865691",
     "status": "completed"
    },
    "tags": []
   },
   "source": [
    "Since the remaining column from the below list also have same problem we can use the `refactor_column_4` function for all of them."
   ]
  },
  {
   "cell_type": "code",
   "execution_count": 13,
   "metadata": {
    "execution": {
     "iopub.execute_input": "2021-04-02T01:40:57.038353Z",
     "iopub.status.busy": "2021-04-02T01:40:57.034634Z",
     "iopub.status.idle": "2021-04-02T01:40:58.403307Z",
     "shell.execute_reply": "2021-04-02T01:40:58.402229Z"
    },
    "papermill": {
     "duration": 1.430194,
     "end_time": "2021-04-02T01:40:58.403473",
     "exception": false,
     "start_time": "2021-04-02T01:40:56.973279",
     "status": "completed"
    },
    "tags": []
   },
   "outputs": [],
   "source": [
    "BINARY_COLUMNS = [\n",
    "    'Beauty',\n",
    "    'Books',\n",
    "    'Design',\n",
    "    'Family',\n",
    "    'Fitness',\n",
    "    'Games',\n",
    "    'Health',\n",
    "    'News',\n",
    "    'Nutrition',\n",
    "    'Politics',\n",
    "    'Science',\n",
    "    'Social',\n",
    "    'Sports',\n",
    "    'Technology',\n",
    "    'Travel'\n",
    "]\n",
    "\n",
    "for header in df_columns:\n",
    "    if header.split(' ')[0] in BINARY_COLUMNS:\n",
    "        refactor_column_4(df, header)"
   ]
  },
  {
   "cell_type": "markdown",
   "metadata": {
    "papermill": {
     "duration": 0.052843,
     "end_time": "2021-04-02T01:40:58.509415",
     "exception": false,
     "start_time": "2021-04-02T01:40:58.456572",
     "status": "completed"
    },
    "tags": []
   },
   "source": [
    "`Column: Other (please specify)`"
   ]
  },
  {
   "cell_type": "code",
   "execution_count": 14,
   "metadata": {
    "execution": {
     "iopub.execute_input": "2021-04-02T01:40:58.626864Z",
     "iopub.status.busy": "2021-04-02T01:40:58.626196Z",
     "iopub.status.idle": "2021-04-02T01:40:58.629912Z",
     "shell.execute_reply": "2021-04-02T01:40:58.629070Z"
    },
    "papermill": {
     "duration": 0.067637,
     "end_time": "2021-04-02T01:40:58.630136",
     "exception": false,
     "start_time": "2021-04-02T01:40:58.562499",
     "status": "completed"
    },
    "tags": []
   },
   "outputs": [
    {
     "name": "stdout",
     "output_type": "stream",
     "text": [
      "[nan 'baseball, board games' 'Crafts' 'Creativity, Innovation, Business'\n",
      " 'law']\n",
      "law                                 1\n",
      "Crafts                              1\n",
      "Creativity, Innovation, Business    1\n",
      "baseball, board games               1\n",
      "Name: Other (please specify), dtype: int64\n"
     ]
    }
   ],
   "source": [
    "col_name = 'Other (please specify)'\n",
    "print(df[col_name].unique())\n",
    "print(df[col_name].value_counts())\n",
    "\n",
    "# Since the \"Other (please specify)\" column has very few values and those\n",
    "# values are unique therefore dropping the column\n",
    "df.drop([col_name], axis='columns', inplace=True)\n",
    "df_columns = df.columns.tolist()  # updating columns list"
   ]
  },
  {
   "cell_type": "markdown",
   "metadata": {
    "papermill": {
     "duration": 0.05379,
     "end_time": "2021-04-02T01:40:58.739895",
     "exception": false,
     "start_time": "2021-04-02T01:40:58.686105",
     "status": "completed"
    },
    "tags": []
   },
   "source": [
    "`Column: 'Would you like to learn about ways to increase your lifespan and healthspan?'`"
   ]
  },
  {
   "cell_type": "code",
   "execution_count": 15,
   "metadata": {
    "execution": {
     "iopub.execute_input": "2021-04-02T01:40:58.858557Z",
     "iopub.status.busy": "2021-04-02T01:40:58.856806Z",
     "iopub.status.idle": "2021-04-02T01:40:58.891243Z",
     "shell.execute_reply": "2021-04-02T01:40:58.890631Z"
    },
    "papermill": {
     "duration": 0.096793,
     "end_time": "2021-04-02T01:40:58.891397",
     "exception": false,
     "start_time": "2021-04-02T01:40:58.794604",
     "status": "completed"
    },
    "tags": []
   },
   "outputs": [
    {
     "name": "stdout",
     "output_type": "stream",
     "text": [
      "['Yes - Visit us at veva.co or\\xa0write\\xa0an email to care@veva.co and we will send you our research on healthy aging.', 'No']\n"
     ]
    }
   ],
   "source": [
    "col_name = 'Would you like to learn about ways to increase your lifespan and healthspan?'\n",
    "print(list(df[col_name].unique()))\n",
    "\n",
    "\n",
    "def _refactor(df, col_name):\n",
    "    column = df[col_name].tolist()\n",
    "    for idx, value in enumerate(column):\n",
    "        if 'Yes' in value:\n",
    "            df[col_name].iloc[idx] = 1\n",
    "        else:\n",
    "            df[col_name].iloc[idx] = 0\n",
    "\n",
    "\n",
    "_refactor(df, col_name)"
   ]
  },
  {
   "cell_type": "markdown",
   "metadata": {
    "papermill": {
     "duration": 0.056178,
     "end_time": "2021-04-02T01:40:59.002650",
     "exception": false,
     "start_time": "2021-04-02T01:40:58.946472",
     "status": "completed"
    },
    "tags": []
   },
   "source": [
    "`Column: Household Income`"
   ]
  },
  {
   "cell_type": "code",
   "execution_count": 16,
   "metadata": {
    "execution": {
     "iopub.execute_input": "2021-04-02T01:40:59.122098Z",
     "iopub.status.busy": "2021-04-02T01:40:59.121397Z",
     "iopub.status.idle": "2021-04-02T01:40:59.124684Z",
     "shell.execute_reply": "2021-04-02T01:40:59.124189Z"
    },
    "papermill": {
     "duration": 0.067036,
     "end_time": "2021-04-02T01:40:59.124831",
     "exception": false,
     "start_time": "2021-04-02T01:40:59.057795",
     "status": "completed"
    },
    "tags": []
   },
   "outputs": [],
   "source": [
    "def refactor_household_column(df):\n",
    "    col_name = 'Household Income'\n",
    "    # print(df[col_name].unique())\n",
    "\n",
    "    new_values = {\n",
    "        'Prefer not to answer': -1,\n",
    "        '$0-$9,999': 1,\n",
    "        '$10,000-$24,999': 2,\n",
    "        '$25,000-$49,999': 3,\n",
    "        '$50,000-$74,999': 4,\n",
    "        '$75,000-$99,999': 5,\n",
    "        '$100,000-$124,999': 6,\n",
    "        '$125,000-$149,999': 7,\n",
    "        '$150,000-$174,999': 8,\n",
    "        '$175,000-$199,999': 9,\n",
    "        '$200,000+': 10\n",
    "    }\n",
    "    df[col_name] = df[col_name].apply(lambda x: new_values[x])\n",
    "\n",
    "\n",
    "refactor_household_column(df)"
   ]
  },
  {
   "cell_type": "markdown",
   "metadata": {
    "papermill": {
     "duration": 0.054255,
     "end_time": "2021-04-02T01:40:59.233496",
     "exception": false,
     "start_time": "2021-04-02T01:40:59.179241",
     "status": "completed"
    },
    "tags": []
   },
   "source": [
    "`Column: Region`"
   ]
  },
  {
   "cell_type": "code",
   "execution_count": 17,
   "metadata": {
    "execution": {
     "iopub.execute_input": "2021-04-02T01:40:59.352096Z",
     "iopub.status.busy": "2021-04-02T01:40:59.351180Z",
     "iopub.status.idle": "2021-04-02T01:40:59.469914Z",
     "shell.execute_reply": "2021-04-02T01:40:59.470670Z"
    },
    "papermill": {
     "duration": 0.182733,
     "end_time": "2021-04-02T01:40:59.470908",
     "exception": false,
     "start_time": "2021-04-02T01:40:59.288175",
     "status": "completed"
    },
    "tags": []
   },
   "outputs": [
    {
     "name": "stderr",
     "output_type": "stream",
     "text": [
      "/opt/conda/lib/python3.7/site-packages/pandas/core/indexing.py:1636: SettingWithCopyWarning: \n",
      "A value is trying to be set on a copy of a slice from a DataFrame\n",
      "\n",
      "See the caveats in the documentation: https://pandas.pydata.org/pandas-docs/stable/user_guide/indexing.html#returning-a-view-versus-a-copy\n",
      "  self._setitem_single_block(indexer, value, name)\n"
     ]
    }
   ],
   "source": [
    "def refactor_region_column(df):\n",
    "    col_name = 'Region'\n",
    "    # print(df[col_name].unique())\n",
    "\n",
    "    new_values = {\n",
    "        'Pacific': 1,\n",
    "        'Mountain': 2,\n",
    "        'Middle Atlantic': 3,\n",
    "        'West North Central': 4,\n",
    "        'South Atlantic': 5,\n",
    "        'East North Central': 6,\n",
    "        'West South Central': 7,\n",
    "        'New England': 8,\n",
    "        'East South Central': 9\n",
    "    }\n",
    "\n",
    "    for idx, value in enumerate(df[col_name]):\n",
    "        if type(value) == str:\n",
    "            df[col_name].iloc[idx] = new_values[value]\n",
    "        else:\n",
    "            df[col_name].iloc[idx] = -1\n",
    "\n",
    "\n",
    "refactor_region_column(df)"
   ]
  },
  {
   "cell_type": "code",
   "execution_count": 18,
   "metadata": {
    "execution": {
     "iopub.execute_input": "2021-04-02T01:40:59.586591Z",
     "iopub.status.busy": "2021-04-02T01:40:59.585892Z",
     "iopub.status.idle": "2021-04-02T01:40:59.589731Z",
     "shell.execute_reply": "2021-04-02T01:40:59.589187Z"
    },
    "papermill": {
     "duration": 0.06345,
     "end_time": "2021-04-02T01:40:59.589887",
     "exception": false,
     "start_time": "2021-04-02T01:40:59.526437",
     "status": "completed"
    },
    "tags": []
   },
   "outputs": [],
   "source": [
    "REGIONS = {\n",
    "    'Pacific': 1,\n",
    "    'Mountain': 2,\n",
    "    'Middle Atlantic': 3,\n",
    "    'West North Central': 4,\n",
    "    'South Atlantic': 5,\n",
    "    'East North Central': 6,\n",
    "    'West South Central': 7,\n",
    "    'New England': 8,\n",
    "    'East South Central': 9\n",
    "}"
   ]
  },
  {
   "cell_type": "markdown",
   "metadata": {
    "papermill": {
     "duration": 0.055812,
     "end_time": "2021-04-02T01:40:59.701432",
     "exception": false,
     "start_time": "2021-04-02T01:40:59.645620",
     "status": "completed"
    },
    "tags": []
   },
   "source": [
    "## 🎙 Exploratory Data Analysis\n",
    "\n",
    "Let's explore the data.\n",
    "\n",
    "![](https://media.giphy.com/media/1SvsA7ypPi78fH2ZvG/giphy.gif)"
   ]
  },
  {
   "cell_type": "code",
   "execution_count": 19,
   "metadata": {
    "execution": {
     "iopub.execute_input": "2021-04-02T01:40:59.817336Z",
     "iopub.status.busy": "2021-04-02T01:40:59.816667Z",
     "iopub.status.idle": "2021-04-02T01:40:59.820092Z",
     "shell.execute_reply": "2021-04-02T01:40:59.819567Z"
    },
    "papermill": {
     "duration": 0.064063,
     "end_time": "2021-04-02T01:40:59.820239",
     "exception": false,
     "start_time": "2021-04-02T01:40:59.756176",
     "status": "completed"
    },
    "tags": []
   },
   "outputs": [],
   "source": [
    "def df_count_plot(df, col_name):\n",
    "    fig_dims = (16, 6)\n",
    "    _, ax = plt.subplots(figsize=fig_dims)\n",
    "    sns.countplot(x=col_name, data=df, ax=ax)"
   ]
  },
  {
   "cell_type": "markdown",
   "metadata": {
    "papermill": {
     "duration": 0.056437,
     "end_time": "2021-04-02T01:40:59.931526",
     "exception": false,
     "start_time": "2021-04-02T01:40:59.875089",
     "status": "completed"
    },
    "tags": []
   },
   "source": [
    "**Variable for long column headers**"
   ]
  },
  {
   "cell_type": "code",
   "execution_count": 20,
   "metadata": {
    "execution": {
     "iopub.execute_input": "2021-04-02T01:41:00.047052Z",
     "iopub.status.busy": "2021-04-02T01:41:00.046073Z",
     "iopub.status.idle": "2021-04-02T01:41:00.049442Z",
     "shell.execute_reply": "2021-04-02T01:41:00.048738Z"
    },
    "papermill": {
     "duration": 0.063493,
     "end_time": "2021-04-02T01:41:00.049590",
     "exception": false,
     "start_time": "2021-04-02T01:40:59.986097",
     "status": "completed"
    },
    "tags": []
   },
   "outputs": [],
   "source": [
    "# people who believe that in future science is capable\n",
    "future_believe = 'One day, advances in science and medicine will stop or reverse the human aging process.'\n",
    "\n",
    "# people who believe that today science is capable\n",
    "today_believe = 'I believe vitamins, supplements, or medications available today can slow, stop or reverse the aging process.'\n",
    "\n",
    "# people who are willing to buy the porduct if it's avilable today\n",
    "willingness_to_buy_today = 'If it were available today, the most I would spend on a supplement that slows, stops, or reverses my aging:'\n",
    "\n",
    "# people who want to buy first\n",
    "want_to_try_first = 'I tend to be among the first of my friends to try new products, services, technologies, etc.'\n",
    "\n",
    "# people who want to learn\n",
    "want_to_learn = 'Would you like to learn about ways to increase your lifespan and healthspan?'"
   ]
  },
  {
   "cell_type": "code",
   "execution_count": 21,
   "metadata": {
    "execution": {
     "iopub.execute_input": "2021-04-02T01:41:00.182577Z",
     "iopub.status.busy": "2021-04-02T01:41:00.181810Z",
     "iopub.status.idle": "2021-04-02T01:41:03.294642Z",
     "shell.execute_reply": "2021-04-02T01:41:03.295174Z"
    },
    "papermill": {
     "duration": 3.190475,
     "end_time": "2021-04-02T01:41:03.295356",
     "exception": false,
     "start_time": "2021-04-02T01:41:00.104881",
     "status": "completed"
    },
    "tags": []
   },
   "outputs": [
    {
     "data": {
      "image/png": "[encoded data removed]",
      "text/plain": [
       "<Figure size 1584x1152 with 2 Axes>"
      ]
     },
     "metadata": {
      "needs_background": "light"
     },
     "output_type": "display_data"
    }
   ],
   "source": [
    "def get_corr(df):\n",
    "    f_series = pd.Series(df[future_believe].values.tolist())\n",
    "    t_series = pd.Series(df[today_believe].values.tolist())\n",
    "    willingess_series = pd.Series(df[willingness_to_buy_today].values.tolist())\n",
    "    _try_first_series = pd.Series(df[want_to_try_first].values.tolist())\n",
    "    learn_series = pd.Series(df[want_to_learn].values.tolist())\n",
    "    gender_df = pd.get_dummies(df['Gender'])\n",
    "    region_df = pd.get_dummies(df['Region'])\n",
    "    age_df = pd.get_dummies(df['Age'])\n",
    "    household_income_series = pd.Series(df['Household Income'].values.tolist())\n",
    "    \n",
    "    series_df = pd.DataFrame({\n",
    "        'Future believe': f_series,\n",
    "        'Today\\'s believe': t_series,\n",
    "        'Willingness to buy': willingess_series,\n",
    "        'Try first': _try_first_series,\n",
    "        'Want to learn': learn_series\n",
    "    })\n",
    "    df_corr = pd.concat([gender_df, region_df, age_df, series_df], axis=1).corr()\n",
    "    plt.figure(figsize=(22, 16))\n",
    "    sns.heatmap(df_corr, annot=True, cmap=sns.cubehelix_palette(start=.5, rot=-.5, as_cmap=True))\n",
    "    \n",
    "    \n",
    "get_corr(df)"
   ]
  },
  {
   "cell_type": "markdown",
   "metadata": {
    "papermill": {
     "duration": 0.061953,
     "end_time": "2021-04-02T01:41:03.419638",
     "exception": false,
     "start_time": "2021-04-02T01:41:03.357685",
     "status": "completed"
    },
    "tags": []
   },
   "source": [
    "### ❓ Finding answers to questions\n",
    "\n",
    "![](https://media.giphy.com/media/Mfvjabj51UiQM/giphy.gif)"
   ]
  },
  {
   "cell_type": "code",
   "execution_count": 22,
   "metadata": {
    "execution": {
     "iopub.execute_input": "2021-04-02T01:41:03.549167Z",
     "iopub.status.busy": "2021-04-02T01:41:03.548141Z",
     "iopub.status.idle": "2021-04-02T01:41:03.551521Z",
     "shell.execute_reply": "2021-04-02T01:41:03.550906Z"
    },
    "papermill": {
     "duration": 0.070144,
     "end_time": "2021-04-02T01:41:03.551685",
     "exception": false,
     "start_time": "2021-04-02T01:41:03.481541",
     "status": "completed"
    },
    "tags": []
   },
   "outputs": [],
   "source": [
    "def get_percent(of, total):\n",
    "    return round(of / total, 2) * 100"
   ]
  },
  {
   "cell_type": "markdown",
   "metadata": {
    "papermill": {
     "duration": 0.063445,
     "end_time": "2021-04-02T01:41:03.677489",
     "exception": false,
     "start_time": "2021-04-02T01:41:03.614044",
     "status": "completed"
    },
    "tags": []
   },
   "source": [
    "`Total number of people`"
   ]
  },
  {
   "cell_type": "code",
   "execution_count": 23,
   "metadata": {
    "execution": {
     "iopub.execute_input": "2021-04-02T01:41:03.809835Z",
     "iopub.status.busy": "2021-04-02T01:41:03.809067Z",
     "iopub.status.idle": "2021-04-02T01:41:03.812381Z",
     "shell.execute_reply": "2021-04-02T01:41:03.811726Z"
    },
    "papermill": {
     "duration": 0.072934,
     "end_time": "2021-04-02T01:41:03.812523",
     "exception": false,
     "start_time": "2021-04-02T01:41:03.739589",
     "status": "completed"
    },
    "tags": []
   },
   "outputs": [],
   "source": [
    "num_of_people = len(df)\n",
    "\n",
    "num_of_male = len(df[df['Gender'] == 'Male'])\n",
    "num_of_female = len(df[df['Gender'] == 'Female'])"
   ]
  },
  {
   "cell_type": "markdown",
   "metadata": {
    "papermill": {
     "duration": 0.061779,
     "end_time": "2021-04-02T01:41:03.937380",
     "exception": false,
     "start_time": "2021-04-02T01:41:03.875601",
     "status": "completed"
    },
    "tags": []
   },
   "source": [
    "`avg of how much people believe in product's future`"
   ]
  },
  {
   "cell_type": "code",
   "execution_count": 24,
   "metadata": {
    "execution": {
     "iopub.execute_input": "2021-04-02T01:41:04.069936Z",
     "iopub.status.busy": "2021-04-02T01:41:04.069106Z",
     "iopub.status.idle": "2021-04-02T01:41:04.072351Z",
     "shell.execute_reply": "2021-04-02T01:41:04.073071Z"
    },
    "papermill": {
     "duration": 0.072892,
     "end_time": "2021-04-02T01:41:04.073303",
     "exception": false,
     "start_time": "2021-04-02T01:41:04.000411",
     "status": "completed"
    },
    "tags": []
   },
   "outputs": [
    {
     "name": "stdout",
     "output_type": "stream",
     "text": [
      "4.966019417475728\n"
     ]
    }
   ],
   "source": [
    "print(df[future_believe].mean()) # 1 - 10"
   ]
  },
  {
   "cell_type": "markdown",
   "metadata": {
    "papermill": {
     "duration": 0.06207,
     "end_time": "2021-04-02T01:41:04.199166",
     "exception": false,
     "start_time": "2021-04-02T01:41:04.137096",
     "status": "completed"
    },
    "tags": []
   },
   "source": [
    "`avg of how much people believe that product is available today`"
   ]
  },
  {
   "cell_type": "code",
   "execution_count": 25,
   "metadata": {
    "execution": {
     "iopub.execute_input": "2021-04-02T01:41:04.330571Z",
     "iopub.status.busy": "2021-04-02T01:41:04.329610Z",
     "iopub.status.idle": "2021-04-02T01:41:04.332926Z",
     "shell.execute_reply": "2021-04-02T01:41:04.333446Z"
    },
    "papermill": {
     "duration": 0.071809,
     "end_time": "2021-04-02T01:41:04.333618",
     "exception": false,
     "start_time": "2021-04-02T01:41:04.261809",
     "status": "completed"
    },
    "tags": []
   },
   "outputs": [
    {
     "name": "stdout",
     "output_type": "stream",
     "text": [
      "4.970873786407767\n"
     ]
    }
   ],
   "source": [
    "print(df[today_believe].mean()) # 1 - 10"
   ]
  },
  {
   "cell_type": "markdown",
   "metadata": {
    "papermill": {
     "duration": 0.063081,
     "end_time": "2021-04-02T01:41:04.459897",
     "exception": false,
     "start_time": "2021-04-02T01:41:04.396816",
     "status": "completed"
    },
    "tags": []
   },
   "source": [
    "`avg of how much people are ready to spend if the product is available today`"
   ]
  },
  {
   "cell_type": "code",
   "execution_count": 26,
   "metadata": {
    "execution": {
     "iopub.execute_input": "2021-04-02T01:41:04.593114Z",
     "iopub.status.busy": "2021-04-02T01:41:04.592203Z",
     "iopub.status.idle": "2021-04-02T01:41:04.595502Z",
     "shell.execute_reply": "2021-04-02T01:41:04.595982Z"
    },
    "papermill": {
     "duration": 0.072312,
     "end_time": "2021-04-02T01:41:04.596202",
     "exception": false,
     "start_time": "2021-04-02T01:41:04.523890",
     "status": "completed"
    },
    "tags": []
   },
   "outputs": [
    {
     "name": "stdout",
     "output_type": "stream",
     "text": [
      "On average people are ready to spend $74.22 if the product is available today\n"
     ]
    }
   ],
   "source": [
    "print(f'On average people are ready to spend ${round(df[willingness_to_buy_today].mean(), 2)} if the product is available today') # $"
   ]
  },
  {
   "cell_type": "markdown",
   "metadata": {
    "papermill": {
     "duration": 0.064516,
     "end_time": "2021-04-02T01:41:04.724382",
     "exception": false,
     "start_time": "2021-04-02T01:41:04.659866",
     "status": "completed"
    },
    "tags": []
   },
   "source": [
    "`avg of how much people want to try first`"
   ]
  },
  {
   "cell_type": "code",
   "execution_count": 27,
   "metadata": {
    "execution": {
     "iopub.execute_input": "2021-04-02T01:41:04.859113Z",
     "iopub.status.busy": "2021-04-02T01:41:04.858267Z",
     "iopub.status.idle": "2021-04-02T01:41:04.861845Z",
     "shell.execute_reply": "2021-04-02T01:41:04.862310Z"
    },
    "papermill": {
     "duration": 0.074026,
     "end_time": "2021-04-02T01:41:04.862511",
     "exception": false,
     "start_time": "2021-04-02T01:41:04.788485",
     "status": "completed"
    },
    "tags": []
   },
   "outputs": [
    {
     "name": "stdout",
     "output_type": "stream",
     "text": [
      "4.936893203883495\n"
     ]
    }
   ],
   "source": [
    "print(df[want_to_try_first].mean()) # 1 - 10"
   ]
  },
  {
   "cell_type": "code",
   "execution_count": 28,
   "metadata": {
    "execution": {
     "iopub.execute_input": "2021-04-02T01:41:05.020556Z",
     "iopub.status.busy": "2021-04-02T01:41:05.019839Z",
     "iopub.status.idle": "2021-04-02T01:41:05.139107Z",
     "shell.execute_reply": "2021-04-02T01:41:05.138553Z"
    },
    "papermill": {
     "duration": 0.212298,
     "end_time": "2021-04-02T01:41:05.139263",
     "exception": false,
     "start_time": "2021-04-02T01:41:04.926965",
     "status": "completed"
    },
    "tags": []
   },
   "outputs": [
    {
     "name": "stdout",
     "output_type": "stream",
     "text": [
      "Percentage of who want to learn: 45.0%\n"
     ]
    },
    {
     "data": {
      "text/plain": [
       "<AxesSubplot:xlabel='Would you like to learn about ways to increase your lifespan and healthspan?', ylabel='count'>"
      ]
     },
     "execution_count": 28,
     "metadata": {},
     "output_type": "execute_result"
    },
    {
     "data": {
      "image/png": "[encoded data removed]",
      "text/plain": [
       "<Figure size 432x288 with 1 Axes>"
      ]
     },
     "metadata": {
      "needs_background": "light"
     },
     "output_type": "display_data"
    }
   ],
   "source": [
    "# how many people want to learn of this product/science\n",
    "want_to = df[df[want_to_learn] == 1][want_to_learn].count()\n",
    "# print(want_to)\n",
    "\n",
    "# people who don't want to\n",
    "dont_want_to = df[df[want_to_learn] == 0][want_to_learn].count()\n",
    "# print(dont_want_to)\n",
    "\n",
    "print(f'Percentage of who want to learn: {get_percent(want_to, num_of_people)}%')\n",
    "sns.countplot(x=want_to_learn, data=df)"
   ]
  },
  {
   "cell_type": "markdown",
   "metadata": {
    "papermill": {
     "duration": 0.066144,
     "end_time": "2021-04-02T01:41:05.271852",
     "exception": false,
     "start_time": "2021-04-02T01:41:05.205708",
     "status": "completed"
    },
    "tags": []
   },
   "source": [
    "`what is the avg household income`"
   ]
  },
  {
   "cell_type": "code",
   "execution_count": 29,
   "metadata": {
    "execution": {
     "iopub.execute_input": "2021-04-02T01:41:05.414145Z",
     "iopub.status.busy": "2021-04-02T01:41:05.413405Z",
     "iopub.status.idle": "2021-04-02T01:41:05.435190Z",
     "shell.execute_reply": "2021-04-02T01:41:05.434626Z"
    },
    "papermill": {
     "duration": 0.097376,
     "end_time": "2021-04-02T01:41:05.435348",
     "exception": false,
     "start_time": "2021-04-02T01:41:05.337972",
     "status": "completed"
    },
    "tags": []
   },
   "outputs": [
    {
     "name": "stdout",
     "output_type": "stream",
     "text": [
      "3.739130434782609\n"
     ]
    }
   ],
   "source": [
    "print(df[df['Household Income'] > 0]['Household Income'].mean()) # $42499.3"
   ]
  },
  {
   "cell_type": "code",
   "execution_count": 30,
   "metadata": {
    "execution": {
     "iopub.execute_input": "2021-04-02T01:41:05.581093Z",
     "iopub.status.busy": "2021-04-02T01:41:05.580258Z",
     "iopub.status.idle": "2021-04-02T01:41:05.766760Z",
     "shell.execute_reply": "2021-04-02T01:41:05.766237Z"
    },
    "papermill": {
     "duration": 0.261508,
     "end_time": "2021-04-02T01:41:05.766908",
     "exception": false,
     "start_time": "2021-04-02T01:41:05.505400",
     "status": "completed"
    },
    "tags": []
   },
   "outputs": [
    {
     "data": {
      "text/plain": [
       "<AxesSubplot:xlabel='Household Income', ylabel='count'>"
      ]
     },
     "execution_count": 30,
     "metadata": {},
     "output_type": "execute_result"
    },
    {
     "data": {
      "image/png": "[encoded data removed]",
      "text/plain": [
       "<Figure size 432x288 with 1 Axes>"
      ]
     },
     "metadata": {
      "needs_background": "light"
     },
     "output_type": "display_data"
    }
   ],
   "source": [
    "sns.countplot(x='Household Income', data=df)"
   ]
  },
  {
   "cell_type": "markdown",
   "metadata": {
    "papermill": {
     "duration": 0.068837,
     "end_time": "2021-04-02T01:41:05.904219",
     "exception": false,
     "start_time": "2021-04-02T01:41:05.835382",
     "status": "completed"
    },
    "tags": []
   },
   "source": [
    "### Question related to the gender column"
   ]
  },
  {
   "cell_type": "markdown",
   "metadata": {
    "papermill": {
     "duration": 0.069028,
     "end_time": "2021-04-02T01:41:06.040634",
     "exception": false,
     "start_time": "2021-04-02T01:41:05.971606",
     "status": "completed"
    },
    "tags": []
   },
   "source": [
    "`number of male and female in the suvery`"
   ]
  },
  {
   "cell_type": "code",
   "execution_count": 31,
   "metadata": {
    "execution": {
     "iopub.execute_input": "2021-04-02T01:41:06.222322Z",
     "iopub.status.busy": "2021-04-02T01:41:06.213446Z",
     "iopub.status.idle": "2021-04-02T01:41:06.447731Z",
     "shell.execute_reply": "2021-04-02T01:41:06.447142Z"
    },
    "papermill": {
     "duration": 0.328645,
     "end_time": "2021-04-02T01:41:06.447882",
     "exception": false,
     "start_time": "2021-04-02T01:41:06.119237",
     "status": "completed"
    },
    "tags": []
   },
   "outputs": [
    {
     "name": "stdout",
     "output_type": "stream",
     "text": [
      "Female    118\n",
      "Male       88\n",
      "Name: Gender, dtype: int64\n"
     ]
    },
    {
     "data": {
      "text/plain": [
       "<AxesSubplot:xlabel='Gender', ylabel='count'>"
      ]
     },
     "execution_count": 31,
     "metadata": {},
     "output_type": "execute_result"
    },
    {
     "data": {
      "image/png": "[encoded data removed]",
      "text/plain": [
       "<Figure size 432x288 with 1 Axes>"
      ]
     },
     "metadata": {
      "needs_background": "light"
     },
     "output_type": "display_data"
    }
   ],
   "source": [
    "print(df['Gender'].value_counts())\n",
    "sns.countplot(x='Gender', data=df)"
   ]
  },
  {
   "cell_type": "markdown",
   "metadata": {
    "papermill": {
     "duration": 0.068922,
     "end_time": "2021-04-02T01:41:06.588396",
     "exception": false,
     "start_time": "2021-04-02T01:41:06.519474",
     "status": "completed"
    },
    "tags": []
   },
   "source": [
    "`Gender wise future believe`"
   ]
  },
  {
   "cell_type": "code",
   "execution_count": 32,
   "metadata": {
    "execution": {
     "iopub.execute_input": "2021-04-02T01:41:06.736866Z",
     "iopub.status.busy": "2021-04-02T01:41:06.734492Z",
     "iopub.status.idle": "2021-04-02T01:41:06.742434Z",
     "shell.execute_reply": "2021-04-02T01:41:06.741600Z"
    },
    "papermill": {
     "duration": 0.084706,
     "end_time": "2021-04-02T01:41:06.742621",
     "exception": false,
     "start_time": "2021-04-02T01:41:06.657915",
     "status": "completed"
    },
    "tags": []
   },
   "outputs": [
    {
     "name": "stdout",
     "output_type": "stream",
     "text": [
      "56.0% of male believe in future of the product\n",
      "33.0% of female believe in future of the product\n"
     ]
    }
   ],
   "source": [
    "# male\n",
    "male = len(df[(df[future_believe] > 5) & (df['Gender'] == 'Male')])\n",
    "print(f'{round(get_percent(male, num_of_male), 2)}% of male believe in future of the product')\n",
    "\n",
    "# female\n",
    "female = len(df[(df[future_believe] > 5) & (df['Gender'] == 'Female')])\n",
    "print(f'{get_percent(female, num_of_female)}% of female believe in future of the product')"
   ]
  },
  {
   "cell_type": "markdown",
   "metadata": {
    "papermill": {
     "duration": 0.070426,
     "end_time": "2021-04-02T01:41:06.883922",
     "exception": false,
     "start_time": "2021-04-02T01:41:06.813496",
     "status": "completed"
    },
    "tags": []
   },
   "source": [
    "`Gender wise today believe`"
   ]
  },
  {
   "cell_type": "code",
   "execution_count": 33,
   "metadata": {
    "execution": {
     "iopub.execute_input": "2021-04-02T01:41:07.035291Z",
     "iopub.status.busy": "2021-04-02T01:41:07.034459Z",
     "iopub.status.idle": "2021-04-02T01:41:07.039339Z",
     "shell.execute_reply": "2021-04-02T01:41:07.038719Z"
    },
    "papermill": {
     "duration": 0.083839,
     "end_time": "2021-04-02T01:41:07.039478",
     "exception": false,
     "start_time": "2021-04-02T01:41:06.955639",
     "status": "completed"
    },
    "tags": []
   },
   "outputs": [
    {
     "name": "stdout",
     "output_type": "stream",
     "text": [
      "41.0% of male believe that the technology/product is available today\n",
      "38.0% of female believe that the technology/product is available today\n"
     ]
    }
   ],
   "source": [
    "# male\n",
    "male = len(df[(df[today_believe] > 5) & (df['Gender'] == 'Male')])\n",
    "print(f'{get_percent(male, num_of_male)}% of male believe that the technology/product is available today')\n",
    "\n",
    "# female\n",
    "female = len(df[(df[today_believe] > 5) & (df['Gender'] == 'Female')])\n",
    "print(f'{get_percent(female, num_of_female)}% of female believe that the technology/product is available today')"
   ]
  },
  {
   "cell_type": "markdown",
   "metadata": {
    "papermill": {
     "duration": 0.069666,
     "end_time": "2021-04-02T01:41:07.179803",
     "exception": false,
     "start_time": "2021-04-02T01:41:07.110137",
     "status": "completed"
    },
    "tags": []
   },
   "source": [
    "`Gender wise who will spend more`"
   ]
  },
  {
   "cell_type": "code",
   "execution_count": 34,
   "metadata": {
    "execution": {
     "iopub.execute_input": "2021-04-02T01:41:07.329265Z",
     "iopub.status.busy": "2021-04-02T01:41:07.326264Z",
     "iopub.status.idle": "2021-04-02T01:41:07.333430Z",
     "shell.execute_reply": "2021-04-02T01:41:07.334331Z"
    },
    "papermill": {
     "duration": 0.084583,
     "end_time": "2021-04-02T01:41:07.334668",
     "exception": false,
     "start_time": "2021-04-02T01:41:07.250085",
     "status": "completed"
    },
    "tags": []
   },
   "outputs": [
    {
     "name": "stdout",
     "output_type": "stream",
     "text": [
      "Male will spend $73.75 if the product is available today\n",
      "Female will spend $74.58 if the product is available today\n"
     ]
    }
   ],
   "source": [
    "# male\n",
    "male_amount = df[df['Gender'] == 'Male'][willingness_to_buy_today].mean()\n",
    "print(f'Male will spend ${male_amount} if the product is available today')\n",
    "\n",
    "# female\n",
    "female_amount = df[df['Gender'] == 'Female'][willingness_to_buy_today].mean()\n",
    "print(f'Female will spend ${round(female_amount, 2)} if the product is available today')"
   ]
  },
  {
   "cell_type": "markdown",
   "metadata": {
    "papermill": {
     "duration": 0.069889,
     "end_time": "2021-04-02T01:41:07.476580",
     "exception": false,
     "start_time": "2021-04-02T01:41:07.406691",
     "status": "completed"
    },
    "tags": []
   },
   "source": [
    "`Gender wise who want's to try first`"
   ]
  },
  {
   "cell_type": "code",
   "execution_count": 35,
   "metadata": {
    "execution": {
     "iopub.execute_input": "2021-04-02T01:41:07.626498Z",
     "iopub.status.busy": "2021-04-02T01:41:07.625629Z",
     "iopub.status.idle": "2021-04-02T01:41:07.630277Z",
     "shell.execute_reply": "2021-04-02T01:41:07.631322Z"
    },
    "papermill": {
     "duration": 0.084707,
     "end_time": "2021-04-02T01:41:07.631632",
     "exception": false,
     "start_time": "2021-04-02T01:41:07.546925",
     "status": "completed"
    },
    "tags": []
   },
   "outputs": [
    {
     "name": "stdout",
     "output_type": "stream",
     "text": [
      "47.0% of male want' to try the product first\n",
      "36.0% of female want' to try the product first\n"
     ]
    }
   ],
   "source": [
    "# male\n",
    "male = len(df[(df[want_to_try_first] > 5) & (df['Gender'] == 'Male')])\n",
    "print(f'{get_percent(male, num_of_male)}% of male want\\' to try the product first')\n",
    "\n",
    "# female\n",
    "female = len(df[(df[want_to_try_first] > 5) & (df['Gender'] == 'Female')])\n",
    "print(f'{get_percent(female, num_of_female)}% of female want\\' to try the product first')"
   ]
  },
  {
   "cell_type": "markdown",
   "metadata": {
    "papermill": {
     "duration": 0.070403,
     "end_time": "2021-04-02T01:41:07.774680",
     "exception": false,
     "start_time": "2021-04-02T01:41:07.704277",
     "status": "completed"
    },
    "tags": []
   },
   "source": [
    "`Gender wise who want to learn`"
   ]
  },
  {
   "cell_type": "code",
   "execution_count": 36,
   "metadata": {
    "execution": {
     "iopub.execute_input": "2021-04-02T01:41:07.925605Z",
     "iopub.status.busy": "2021-04-02T01:41:07.924694Z",
     "iopub.status.idle": "2021-04-02T01:41:07.928591Z",
     "shell.execute_reply": "2021-04-02T01:41:07.927992Z"
    },
    "papermill": {
     "duration": 0.083221,
     "end_time": "2021-04-02T01:41:07.928730",
     "exception": false,
     "start_time": "2021-04-02T01:41:07.845509",
     "status": "completed"
    },
    "tags": []
   },
   "outputs": [
    {
     "name": "stdout",
     "output_type": "stream",
     "text": [
      "43.0% of males want to learn about the science/product\n",
      "47.0% of females want to learn about the science/product\n"
     ]
    }
   ],
   "source": [
    "# male\n",
    "male = len(df[(df[want_to_learn] == 1) & (df['Gender'] == 'Male')])\n",
    "print(f'{get_percent(male, num_of_male)}% of males want to learn about the science/product')\n",
    "\n",
    "# female\n",
    "female = len(df[(df[want_to_learn] == 1) & (df['Gender'] == 'Female')])\n",
    "print(f'{get_percent(female, num_of_female)}% of females want to learn about the science/product')"
   ]
  },
  {
   "cell_type": "markdown",
   "metadata": {
    "papermill": {
     "duration": 0.07177,
     "end_time": "2021-04-02T01:41:08.071768",
     "exception": false,
     "start_time": "2021-04-02T01:41:07.999998",
     "status": "completed"
    },
    "tags": []
   },
   "source": [
    "`Gender wise avg Household Income`"
   ]
  },
  {
   "cell_type": "code",
   "execution_count": 37,
   "metadata": {
    "execution": {
     "iopub.execute_input": "2021-04-02T01:41:08.226087Z",
     "iopub.status.busy": "2021-04-02T01:41:08.224988Z",
     "iopub.status.idle": "2021-04-02T01:41:08.229546Z",
     "shell.execute_reply": "2021-04-02T01:41:08.228998Z"
    },
    "papermill": {
     "duration": 0.085128,
     "end_time": "2021-04-02T01:41:08.229705",
     "exception": false,
     "start_time": "2021-04-02T01:41:08.144577",
     "status": "completed"
    },
    "tags": []
   },
   "outputs": [
    {
     "name": "stdout",
     "output_type": "stream",
     "text": [
      "3.59\n",
      "2.97\n",
      "\n",
      "$37,499.5 is the average household income of male\n",
      "$23,499.1 is the average household income of female\n"
     ]
    }
   ],
   "source": [
    "# male\n",
    "male_amount = df[df['Gender'] == 'Male']['Household Income'].mean()\n",
    "print(round(male_amount, 2))\n",
    "\n",
    "# female\n",
    "female_amount = df[df['Gender'] == 'Female']['Household Income'].mean()\n",
    "print(round(female_amount, 2))\n",
    "\n",
    "print()\n",
    "\n",
    "print(f'$37,499.5 is the average household income of male')\n",
    "print(f'$23,499.1 is the average household income of female')"
   ]
  },
  {
   "cell_type": "markdown",
   "metadata": {
    "papermill": {
     "duration": 0.071237,
     "end_time": "2021-04-02T01:41:08.372437",
     "exception": false,
     "start_time": "2021-04-02T01:41:08.301200",
     "status": "completed"
    },
    "tags": []
   },
   "source": [
    "### Question related to household income column\n",
    "\n",
    "`Which income range is more interested in the product?`"
   ]
  },
  {
   "cell_type": "code",
   "execution_count": 38,
   "metadata": {
    "execution": {
     "iopub.execute_input": "2021-04-02T01:41:08.522987Z",
     "iopub.status.busy": "2021-04-02T01:41:08.522350Z",
     "iopub.status.idle": "2021-04-02T01:41:08.526387Z",
     "shell.execute_reply": "2021-04-02T01:41:08.525531Z"
    },
    "papermill": {
     "duration": 0.082341,
     "end_time": "2021-04-02T01:41:08.526582",
     "exception": false,
     "start_time": "2021-04-02T01:41:08.444241",
     "status": "completed"
    },
    "tags": []
   },
   "outputs": [
    {
     "name": "stdout",
     "output_type": "stream",
     "text": [
      "3.340909090909091\n"
     ]
    }
   ],
   "source": [
    "# future\n",
    "income_range = df[df[future_believe] > 5]['Household Income'].mean()\n",
    "print(income_range) # $32,499.7"
   ]
  },
  {
   "cell_type": "code",
   "execution_count": 39,
   "metadata": {
    "execution": {
     "iopub.execute_input": "2021-04-02T01:41:08.678598Z",
     "iopub.status.busy": "2021-04-02T01:41:08.677750Z",
     "iopub.status.idle": "2021-04-02T01:41:08.680898Z",
     "shell.execute_reply": "2021-04-02T01:41:08.681441Z"
    },
    "papermill": {
     "duration": 0.082331,
     "end_time": "2021-04-02T01:41:08.681619",
     "exception": false,
     "start_time": "2021-04-02T01:41:08.599288",
     "status": "completed"
    },
    "tags": []
   },
   "outputs": [
    {
     "name": "stdout",
     "output_type": "stream",
     "text": [
      "2.962962962962963\n"
     ]
    }
   ],
   "source": [
    "# today\n",
    "income_range = df[df[today_believe] > 5]['Household Income'].mean()\n",
    "print(income_range) # $23,499.1"
   ]
  },
  {
   "cell_type": "markdown",
   "metadata": {
    "papermill": {
     "duration": 0.072223,
     "end_time": "2021-04-02T01:41:08.827592",
     "exception": false,
     "start_time": "2021-04-02T01:41:08.755369",
     "status": "completed"
    },
    "tags": []
   },
   "source": [
    "`willingness to buy (how much an income grp is ready to spend)`"
   ]
  },
  {
   "cell_type": "code",
   "execution_count": 40,
   "metadata": {
    "execution": {
     "iopub.execute_input": "2021-04-02T01:41:08.981267Z",
     "iopub.status.busy": "2021-04-02T01:41:08.980214Z",
     "iopub.status.idle": "2021-04-02T01:41:08.987613Z",
     "shell.execute_reply": "2021-04-02T01:41:08.988109Z"
    },
    "papermill": {
     "duration": 0.087838,
     "end_time": "2021-04-02T01:41:08.988309",
     "exception": false,
     "start_time": "2021-04-02T01:41:08.900471",
     "status": "completed"
    },
    "tags": []
   },
   "outputs": [
    {
     "name": "stdout",
     "output_type": "stream",
     "text": [
      "Higher income group is ready to spend $98.39\n",
      "Lower income group is ready to spend $72.92\n"
     ]
    }
   ],
   "source": [
    "higger_income_grp = df['Household Income'] > 5\n",
    "spending = df[higger_income_grp][willingness_to_buy_today].mean()\n",
    "print(f'Higher income group is ready to spend ${round(spending, 2)}')\n",
    "\n",
    "lower_income_grp = df['Household Income'] <= 5\n",
    "no_ans = df['Household Income'] != -1  # didn't disclosed their income\n",
    "spending = df[lower_income_grp & no_ans][willingness_to_buy_today].mean()\n",
    "print(f'Lower income group is ready to spend ${round(spending, 2)}')"
   ]
  },
  {
   "cell_type": "markdown",
   "metadata": {
    "papermill": {
     "duration": 0.09683,
     "end_time": "2021-04-02T01:41:09.160147",
     "exception": false,
     "start_time": "2021-04-02T01:41:09.063317",
     "status": "completed"
    },
    "tags": []
   },
   "source": [
    "### Question related to region column"
   ]
  },
  {
   "cell_type": "code",
   "execution_count": 41,
   "metadata": {
    "execution": {
     "iopub.execute_input": "2021-04-02T01:41:09.314393Z",
     "iopub.status.busy": "2021-04-02T01:41:09.313598Z",
     "iopub.status.idle": "2021-04-02T01:41:09.316900Z",
     "shell.execute_reply": "2021-04-02T01:41:09.316343Z"
    },
    "papermill": {
     "duration": 0.083721,
     "end_time": "2021-04-02T01:41:09.317066",
     "exception": false,
     "start_time": "2021-04-02T01:41:09.233345",
     "status": "completed"
    },
    "tags": []
   },
   "outputs": [],
   "source": [
    "unique_regions = df.Region.unique().tolist()\n",
    "unique_regions.remove(-1)  # removing nan values\n",
    "\n",
    "def value2key(dictonary, value):\n",
    "    for key, val in dictonary.items():\n",
    "        if value == val:\n",
    "            return key"
   ]
  },
  {
   "cell_type": "code",
   "execution_count": 42,
   "metadata": {
    "execution": {
     "iopub.execute_input": "2021-04-02T01:41:09.516519Z",
     "iopub.status.busy": "2021-04-02T01:41:09.498673Z",
     "iopub.status.idle": "2021-04-02T01:41:09.522994Z",
     "shell.execute_reply": "2021-04-02T01:41:09.522362Z"
    },
    "papermill": {
     "duration": 0.132703,
     "end_time": "2021-04-02T01:41:09.523152",
     "exception": false,
     "start_time": "2021-04-02T01:41:09.390449",
     "status": "completed"
    },
    "tags": []
   },
   "outputs": [
    {
     "name": "stdout",
     "output_type": "stream",
     "text": [
      "\n",
      "        *** Pacific ***\n",
      "        future believe: 5.5 \n",
      "        today believe: 5.14 \n",
      "        want to try: 4.97 \n",
      "        want to learn: 37.84% \n",
      "        spending: $78.51\n",
      "\n",
      "        \n",
      "\n",
      "        *** Mountain ***\n",
      "        future believe: 4.2 \n",
      "        today believe: 4.42 \n",
      "        want to try: 3.92 \n",
      "        want to learn: 50.0% \n",
      "        spending: $82.92\n",
      "\n",
      "        \n",
      "\n",
      "        *** Middle Atlantic ***\n",
      "        future believe: 4.6 \n",
      "        today believe: 4.61 \n",
      "        want to try: 4.57 \n",
      "        want to learn: 35.71% \n",
      "        spending: $96.61\n",
      "\n",
      "        \n",
      "\n",
      "        *** West North Central ***\n",
      "        future believe: 4.6 \n",
      "        today believe: 5.18 \n",
      "        want to try: 4.45 \n",
      "        want to learn: 54.55% \n",
      "        spending: $123.64\n",
      "\n",
      "        \n",
      "\n",
      "        *** South Atlantic ***\n",
      "        future believe: 5.2 \n",
      "        today believe: 5.03 \n",
      "        want to try: 5.18 \n",
      "        want to learn: 45.45% \n",
      "        spending: $38.94\n",
      "\n",
      "        \n",
      "\n",
      "        *** East North Central ***\n",
      "        future believe: 4.7 \n",
      "        today believe: 4.36 \n",
      "        want to try: 4.39 \n",
      "        want to learn: 42.86% \n",
      "        spending: $64.82\n",
      "\n",
      "        \n",
      "\n",
      "        *** West South Central ***\n",
      "        future believe: 4.9 \n",
      "        today believe: 5.45 \n",
      "        want to try: 5.42 \n",
      "        want to learn: 58.06% \n",
      "        spending: $72.26\n",
      "\n",
      "        \n",
      "\n",
      "        *** New England ***\n",
      "        future believe: 6.0 \n",
      "        today believe: 4.75 \n",
      "        want to try: 6.12 \n",
      "        want to learn: 37.5% \n",
      "        spending: $53.75\n",
      "\n",
      "        \n",
      "\n",
      "        *** East South Central ***\n",
      "        future believe: 4.5 \n",
      "        today believe: 5.25 \n",
      "        want to try: 5.25 \n",
      "        want to learn: 50.0% \n",
      "        spending: $65.31\n",
      "\n",
      "        \n"
     ]
    }
   ],
   "source": [
    "regions = []\n",
    "f_believe_list = []\n",
    "t_believe_list = []\n",
    "_try_list = []\n",
    "spending_list = []\n",
    "learn_list = []\n",
    "\n",
    "for region in unique_regions:\n",
    "    spending = df[df.Region == region][willingness_to_buy_today].mean()\n",
    "    f_believe = df[df.Region == region][future_believe].mean()\n",
    "    t_believe = df[df.Region == region][today_believe].mean()\n",
    "    _try = df[df.Region == region][want_to_try_first].mean()\n",
    "\n",
    "    learn = df[df.Region == region][want_to_learn].value_counts()\n",
    "    learn_0, learn_1 = learn[0], learn[1]\n",
    "\n",
    "    f_str = f'future believe: {round(f_believe, 1)}'\n",
    "    t_str = f'today believe: {round(t_believe, 2)}'\n",
    "    tr_str = f'want to try: {round(_try, 2)}'\n",
    "    l_str = f'want to learn: {round(learn_1 / (learn_1 + learn_0) * 100, 2)}%'\n",
    "    spending_str = f'spending: ${round(spending, 2)}'\n",
    "    \n",
    "    regions.append(value2key(REGIONS, region))\n",
    "    f_believe_list.append(round(f_believe, 1))\n",
    "    t_believe_list.append(round(t_believe, 1))\n",
    "    _try_list.append(round(_try, 1))\n",
    "    learn_list.append(round(learn_1 / (learn_1 + learn_0) * 100, 2))\n",
    "    spending_list.append(round(spending, 2))\n",
    "\n",
    "    print(\n",
    "        f'''\n",
    "        *** {value2key(REGIONS, region)} ***\n",
    "        {f_str} \n",
    "        {t_str} \n",
    "        {tr_str} \n",
    "        {l_str} \n",
    "        {spending_str}\n",
    "\n",
    "        '''\n",
    "    )"
   ]
  },
  {
   "cell_type": "code",
   "execution_count": 43,
   "metadata": {
    "execution": {
     "iopub.execute_input": "2021-04-02T01:41:09.678215Z",
     "iopub.status.busy": "2021-04-02T01:41:09.677422Z",
     "iopub.status.idle": "2021-04-02T01:41:09.679440Z",
     "shell.execute_reply": "2021-04-02T01:41:09.679915Z"
    },
    "papermill": {
     "duration": 0.083422,
     "end_time": "2021-04-02T01:41:09.680116",
     "exception": false,
     "start_time": "2021-04-02T01:41:09.596694",
     "status": "completed"
    },
    "tags": []
   },
   "outputs": [],
   "source": [
    "def plot_barh_sorted_range(_x, _y, x_label, y_label):\n",
    "    x = []\n",
    "    y = []\n",
    "\n",
    "    # remove nan\n",
    "    for idx, val in enumerate(_x):\n",
    "        if str(val) != 'nan':\n",
    "            x.append(_x[idx])\n",
    "            y.append(_y[idx])\n",
    "    \n",
    "    sorted_pairs = sorted(zip(x, y))\n",
    "    tuples = zip(*sorted_pairs)\n",
    "    x, y = [ list(tuple) for tuple in  tuples]\n",
    "    plt.barh(y, x, color='#65b87b', alpha=.7)\n",
    "    plt.xlabel(x_label)\n",
    "    plt.ylabel(y_label)"
   ]
  },
  {
   "cell_type": "code",
   "execution_count": 44,
   "metadata": {
    "execution": {
     "iopub.execute_input": "2021-04-02T01:41:09.832953Z",
     "iopub.status.busy": "2021-04-02T01:41:09.832307Z",
     "iopub.status.idle": "2021-04-02T01:41:10.015333Z",
     "shell.execute_reply": "2021-04-02T01:41:10.015834Z"
    },
    "papermill": {
     "duration": 0.261365,
     "end_time": "2021-04-02T01:41:10.016021",
     "exception": false,
     "start_time": "2021-04-02T01:41:09.754656",
     "status": "completed"
    },
    "tags": []
   },
   "outputs": [
    {
     "data": {
      "image/png": "[encoded data removed]",
      "text/plain": [
       "<Figure size 432x288 with 1 Axes>"
      ]
     },
     "metadata": {
      "needs_background": "light"
     },
     "output_type": "display_data"
    }
   ],
   "source": [
    "plot_barh_sorted_range(f_believe_list, regions, 'Average rating of future believe', 'Regions')"
   ]
  },
  {
   "cell_type": "code",
   "execution_count": 45,
   "metadata": {
    "execution": {
     "iopub.execute_input": "2021-04-02T01:41:10.188374Z",
     "iopub.status.busy": "2021-04-02T01:41:10.186049Z",
     "iopub.status.idle": "2021-04-02T01:41:10.349905Z",
     "shell.execute_reply": "2021-04-02T01:41:10.349421Z"
    },
    "papermill": {
     "duration": 0.258384,
     "end_time": "2021-04-02T01:41:10.350125",
     "exception": false,
     "start_time": "2021-04-02T01:41:10.091741",
     "status": "completed"
    },
    "tags": []
   },
   "outputs": [
    {
     "data": {
      "image/png": "[encoded data removed]",
      "text/plain": [
       "<Figure size 432x288 with 1 Axes>"
      ]
     },
     "metadata": {
      "needs_background": "light"
     },
     "output_type": "display_data"
    }
   ],
   "source": [
    "plot_barh_sorted_range(t_believe_list, regions, 'Average rating of today\\'s believe', 'Regions')"
   ]
  },
  {
   "cell_type": "code",
   "execution_count": 46,
   "metadata": {
    "execution": {
     "iopub.execute_input": "2021-04-02T01:41:10.524046Z",
     "iopub.status.busy": "2021-04-02T01:41:10.523286Z",
     "iopub.status.idle": "2021-04-02T01:41:10.690000Z",
     "shell.execute_reply": "2021-04-02T01:41:10.689456Z"
    },
    "papermill": {
     "duration": 0.26446,
     "end_time": "2021-04-02T01:41:10.690177",
     "exception": false,
     "start_time": "2021-04-02T01:41:10.425717",
     "status": "completed"
    },
    "tags": []
   },
   "outputs": [
    {
     "data": {
      "image/png": "[encoded data removed]",
      "text/plain": [
       "<Figure size 432x288 with 1 Axes>"
      ]
     },
     "metadata": {
      "needs_background": "light"
     },
     "output_type": "display_data"
    }
   ],
   "source": [
    "plot_barh_sorted_range(_try_list, regions, 'Average rating of people who want to try', 'Regions')"
   ]
  },
  {
   "cell_type": "code",
   "execution_count": 47,
   "metadata": {
    "execution": {
     "iopub.execute_input": "2021-04-02T01:41:10.871926Z",
     "iopub.status.busy": "2021-04-02T01:41:10.865436Z",
     "iopub.status.idle": "2021-04-02T01:41:11.035715Z",
     "shell.execute_reply": "2021-04-02T01:41:11.034710Z"
    },
    "papermill": {
     "duration": 0.268022,
     "end_time": "2021-04-02T01:41:11.035868",
     "exception": false,
     "start_time": "2021-04-02T01:41:10.767846",
     "status": "completed"
    },
    "tags": []
   },
   "outputs": [
    {
     "data": {
      "image/png": "[encoded data removed]",
      "text/plain": [
       "<Figure size 432x288 with 1 Axes>"
      ]
     },
     "metadata": {
      "needs_background": "light"
     },
     "output_type": "display_data"
    }
   ],
   "source": [
    "plot_barh_sorted_range(learn_list, regions, 'Percentage of people who want to learn', 'Regions')"
   ]
  },
  {
   "cell_type": "code",
   "execution_count": 48,
   "metadata": {
    "execution": {
     "iopub.execute_input": "2021-04-02T01:41:11.215873Z",
     "iopub.status.busy": "2021-04-02T01:41:11.215191Z",
     "iopub.status.idle": "2021-04-02T01:41:11.384164Z",
     "shell.execute_reply": "2021-04-02T01:41:11.384653Z"
    },
    "papermill": {
     "duration": 0.269388,
     "end_time": "2021-04-02T01:41:11.384845",
     "exception": false,
     "start_time": "2021-04-02T01:41:11.115457",
     "status": "completed"
    },
    "tags": []
   },
   "outputs": [
    {
     "data": {
      "image/png": "[encoded data removed]",
      "text/plain": [
       "<Figure size 432x288 with 1 Axes>"
      ]
     },
     "metadata": {
      "needs_background": "light"
     },
     "output_type": "display_data"
    }
   ],
   "source": [
    "plot_barh_sorted_range(spending_list, regions, 'Average amount($) people are ready to spend', 'Regions')"
   ]
  },
  {
   "cell_type": "markdown",
   "metadata": {
    "papermill": {
     "duration": 0.079443,
     "end_time": "2021-04-02T01:41:11.543575",
     "exception": false,
     "start_time": "2021-04-02T01:41:11.464132",
     "status": "completed"
    },
    "tags": []
   },
   "source": [
    "### Question related to remaining fields (columns)"
   ]
  },
  {
   "cell_type": "code",
   "execution_count": 49,
   "metadata": {
    "execution": {
     "iopub.execute_input": "2021-04-02T01:41:11.706434Z",
     "iopub.status.busy": "2021-04-02T01:41:11.705719Z",
     "iopub.status.idle": "2021-04-02T01:41:11.717259Z",
     "shell.execute_reply": "2021-04-02T01:41:11.716705Z"
    },
    "papermill": {
     "duration": 0.09432,
     "end_time": "2021-04-02T01:41:11.717402",
     "exception": false,
     "start_time": "2021-04-02T01:41:11.623082",
     "status": "completed"
    },
    "tags": []
   },
   "outputs": [
    {
     "data": {
      "text/plain": [
       "63"
      ]
     },
     "execution_count": 49,
     "metadata": {},
     "output_type": "execute_result"
    }
   ],
   "source": [
    "df_columns = df.columns.tolist()\n",
    "\n",
    "BINARY_COLUMNS = [\n",
    "    'Beauty - General',\n",
    "    'Beauty - Fashion',\n",
    "    'Beauty - Makeup',\n",
    "    'Beauty - Skincare',\n",
    "    'Books - General',\n",
    "    'Books - Non-fiction',\n",
    "    'Books - Fiction',\n",
    "    'Design - General',\n",
    "    'Design - Architecture',\n",
    "    'Design - Graphic',\n",
    "    'Design - Interior',\n",
    "    'Family - General',\n",
    "    'Fitness - General',\n",
    "    'Fitness - Aerobics',\n",
    "    'Fitness - Biking',\n",
    "    'Fitness - Crossfit & Interval Training',\n",
    "    'Games - General',\n",
    "    'Games - Dungeons and Dragons',\n",
    "    'Games - Fortnite',\n",
    "    'Games - Minecraft',\n",
    "    'Games - MMORPGs',\n",
    "    'Health - General',\n",
    "    'Health - Meditation and Mindfulness',\n",
    "    'Health - Sauna & Steamrooms',\n",
    "    'Health - Sleep',\n",
    "    'News - General',\n",
    "    'News - Newspapers',\n",
    "    'News - Journals',\n",
    "    'News - Social media',\n",
    "    'News - Cable',\n",
    "    'Nutrition - General',\n",
    "    'Nutrition - Fasting',\n",
    "    'Nutrition - Mediterranean diets',\n",
    "    'Nutrition - Ketogenic & Gluten Free diets',\n",
    "    'Politics - General',\n",
    "    'Politics - Conservative',\n",
    "    'Politics - Liberal',\n",
    "    'Science - General',\n",
    "    'Science - Longevity research',\n",
    "    'Social media - General',\n",
    "    'Social media - Facebook',\n",
    "    'Social media - Instagram',\n",
    "    'Social media - Twitter',\n",
    "    'Social media - Tik Tok',\n",
    "    'Social media - WhatsApp',\n",
    "    'Sports - General',\n",
    "    'Sports - Backpacking',\n",
    "    'Sports - Hunting',\n",
    "    'Sports - Fly fishing',\n",
    "    'Sports - Marathons, triathlons, distance races, etc.',\n",
    "    'Sports - Motocross, snowmobiles, ATVs',\n",
    "    'Sports - NFL',\n",
    "    'Sports - Yoga',\n",
    "    'Technology - General',\n",
    "    'Technology - 3D printing',\n",
    "    'Technology - Artificial Intelligence',\n",
    "    'Technology - Programming',\n",
    "    'Technology - Quantified Self',\n",
    "    'Technology - Robotics',\n",
    "    'Technology - Smart Home, IoT, etc',\n",
    "    'Technology - Wearables',\n",
    "    'Travel - General',\n",
    "    'Travel - Road trips',\n",
    "]\n",
    "\n",
    "len(BINARY_COLUMNS)"
   ]
  },
  {
   "cell_type": "code",
   "execution_count": 50,
   "metadata": {
    "execution": {
     "iopub.execute_input": "2021-04-02T01:41:11.909012Z",
     "iopub.status.busy": "2021-04-02T01:41:11.908314Z",
     "iopub.status.idle": "2021-04-02T01:41:12.508748Z",
     "shell.execute_reply": "2021-04-02T01:41:12.509280Z"
    },
    "papermill": {
     "duration": 0.711894,
     "end_time": "2021-04-02T01:41:12.509486",
     "exception": false,
     "start_time": "2021-04-02T01:41:11.797592",
     "status": "completed"
    },
    "tags": []
   },
   "outputs": [],
   "source": [
    "headers = []\n",
    "f_believe_list = []\n",
    "t_believe_list = []\n",
    "_try_list = []\n",
    "spending_list = []\n",
    "learn_list = []\n",
    "reponse_percentage_list = []\n",
    "\n",
    "for i in [1, 0]:\n",
    "    for h in BINARY_COLUMNS:  # h == header\n",
    "        spending = df[df[h] == i][willingness_to_buy_today].mean()\n",
    "        f_believe = df[df[h] == i][future_believe].mean()\n",
    "        t_believe = df[df[h] == i][today_believe].mean()\n",
    "        _try = df[df[h] == i][want_to_try_first].mean()\n",
    "\n",
    "        learn = df[df[h] == i][want_to_learn].value_counts()\n",
    "        try:\n",
    "            learn_0, learn_1 = learn[0], learn[1]\n",
    "        except:\n",
    "            try:\n",
    "                learn_0 = learn[0]\n",
    "            except:\n",
    "                learn_0 = 0\n",
    "                try:\n",
    "                    learn_1 = learn[1]\n",
    "                except:\n",
    "                    learn_1 = 0\n",
    "\n",
    "        # reponse percent\n",
    "        rp_per = round(len(df[df[h] == i]) / len(df[h]) * 100, 2)\n",
    "        rp_per_str = f'reponse percent: {rp_per}%'\n",
    "\n",
    "        f_str = f'future believe: {round(f_believe, 2)}'\n",
    "        t_str = f'today believe: {round(t_believe, 2)}'\n",
    "        tr_str = f'want to try: {round(_try, 2)}'\n",
    "\n",
    "        if (learn_0 != 0 and learn_1 != 0):\n",
    "            _learn = round(learn_1 / (learn_1 + learn_0) * 100, 2)\n",
    "            l_str = f'want to learn: {_learn}%'\n",
    "        else:\n",
    "            _learn = 0\n",
    "            l_str = f'want to learn: {_learn}%'\n",
    "\n",
    "        spending_str = f'spending: {round(spending, 2)}'\n",
    "        \n",
    "        headers.append(f'{i} - {h}')\n",
    "        reponse_percentage_list.append(rp_per)\n",
    "        f_believe_list.append(round(f_believe, 2))\n",
    "        t_believe_list.append(round(t_believe, 2))\n",
    "        _try_list.append(round(_try, 2))\n",
    "        spending_list.append(round(spending, 2))\n",
    "        learn_list.append(_learn)\n",
    "        \n",
    "#         print(\n",
    "#             f'''\n",
    "#             *** {i} - {h} ***\n",
    "#             {rp_per_str}\n",
    "#             {f_str} \n",
    "#             {t_str} \n",
    "#             {tr_str} \n",
    "#             {l_str} \n",
    "#             {spending_str}\n",
    "\n",
    "#             '''\n",
    "#         )"
   ]
  },
  {
   "cell_type": "code",
   "execution_count": 51,
   "metadata": {
    "execution": {
     "iopub.execute_input": "2021-04-02T01:41:12.672184Z",
     "iopub.status.busy": "2021-04-02T01:41:12.671505Z",
     "iopub.status.idle": "2021-04-02T01:41:12.678362Z",
     "shell.execute_reply": "2021-04-02T01:41:12.678950Z"
    },
    "papermill": {
     "duration": 0.089535,
     "end_time": "2021-04-02T01:41:12.679150",
     "exception": false,
     "start_time": "2021-04-02T01:41:12.589615",
     "status": "completed"
    },
    "tags": []
   },
   "outputs": [],
   "source": [
    "def plot_barh_sorted_range_with_slice(_x, _y, _slice, x_label, y_label):\n",
    "    x = []\n",
    "    y = []\n",
    "    # remove nan\n",
    "    for idx, val in enumerate(_x):\n",
    "        if str(val) != 'nan':\n",
    "            x.append(_x[idx])\n",
    "            y.append(_y[idx])\n",
    "    \n",
    "    print(f'**** Top {_slice} ****')\n",
    "    sorted_pairs = sorted(zip(x, y))\n",
    "    tuples = zip(*sorted_pairs)\n",
    "    x, y = [ list(tuple) for tuple in  tuples]\n",
    "    \n",
    "    plt.barh(y[-_slice:], x[-_slice:], color='#706dbd', alpha=.7)\n",
    "    plt.xlabel(x_label)\n",
    "    plt.ylabel(y_label)"
   ]
  },
  {
   "cell_type": "code",
   "execution_count": 52,
   "metadata": {
    "execution": {
     "iopub.execute_input": "2021-04-02T01:41:12.842584Z",
     "iopub.status.busy": "2021-04-02T01:41:12.841803Z",
     "iopub.status.idle": "2021-04-02T01:41:12.845285Z",
     "shell.execute_reply": "2021-04-02T01:41:12.845887Z"
    },
    "papermill": {
     "duration": 0.08637,
     "end_time": "2021-04-02T01:41:12.846083",
     "exception": false,
     "start_time": "2021-04-02T01:41:12.759713",
     "status": "completed"
    },
    "tags": []
   },
   "outputs": [],
   "source": [
    "TOP = 10"
   ]
  },
  {
   "cell_type": "code",
   "execution_count": 53,
   "metadata": {
    "execution": {
     "iopub.execute_input": "2021-04-02T01:41:13.008896Z",
     "iopub.status.busy": "2021-04-02T01:41:13.008224Z",
     "iopub.status.idle": "2021-04-02T01:41:13.230345Z",
     "shell.execute_reply": "2021-04-02T01:41:13.229810Z"
    },
    "papermill": {
     "duration": 0.304608,
     "end_time": "2021-04-02T01:41:13.230515",
     "exception": false,
     "start_time": "2021-04-02T01:41:12.925907",
     "status": "completed"
    },
    "tags": []
   },
   "outputs": [
    {
     "name": "stdout",
     "output_type": "stream",
     "text": [
      "**** Top 10 ****\n"
     ]
    },
    {
     "data": {
      "image/png": "[encoded data removed]",
      "text/plain": [
       "<Figure size 432x288 with 1 Axes>"
      ]
     },
     "metadata": {
      "needs_background": "light"
     },
     "output_type": "display_data"
    }
   ],
   "source": [
    "plot_barh_sorted_range_with_slice(f_believe_list, headers, TOP, 'Average rating of future believe', 'Response type - Category')"
   ]
  },
  {
   "cell_type": "code",
   "execution_count": 54,
   "metadata": {
    "execution": {
     "iopub.execute_input": "2021-04-02T01:41:13.414153Z",
     "iopub.status.busy": "2021-04-02T01:41:13.413466Z",
     "iopub.status.idle": "2021-04-02T01:41:13.621702Z",
     "shell.execute_reply": "2021-04-02T01:41:13.621039Z"
    },
    "papermill": {
     "duration": 0.309886,
     "end_time": "2021-04-02T01:41:13.621845",
     "exception": false,
     "start_time": "2021-04-02T01:41:13.311959",
     "status": "completed"
    },
    "tags": []
   },
   "outputs": [
    {
     "name": "stdout",
     "output_type": "stream",
     "text": [
      "**** Top 10 ****\n"
     ]
    },
    {
     "data": {
      "image/png": "[encoded data removed]",
      "text/plain": [
       "<Figure size 432x288 with 1 Axes>"
      ]
     },
     "metadata": {
      "needs_background": "light"
     },
     "output_type": "display_data"
    }
   ],
   "source": [
    "plot_barh_sorted_range_with_slice(t_believe_list, headers, TOP, 'Average rating of today\\'s believe', 'Response type - Category')"
   ]
  },
  {
   "cell_type": "code",
   "execution_count": 55,
   "metadata": {
    "execution": {
     "iopub.execute_input": "2021-04-02T01:41:13.792564Z",
     "iopub.status.busy": "2021-04-02T01:41:13.791605Z",
     "iopub.status.idle": "2021-04-02T01:41:14.018766Z",
     "shell.execute_reply": "2021-04-02T01:41:14.019268Z"
    },
    "papermill": {
     "duration": 0.314817,
     "end_time": "2021-04-02T01:41:14.019542",
     "exception": false,
     "start_time": "2021-04-02T01:41:13.704725",
     "status": "completed"
    },
    "tags": []
   },
   "outputs": [
    {
     "name": "stdout",
     "output_type": "stream",
     "text": [
      "**** Top 10 ****\n"
     ]
    },
    {
     "data": {
      "image/png": "[encoded data removed]",
      "text/plain": [
       "<Figure size 432x288 with 1 Axes>"
      ]
     },
     "metadata": {
      "needs_background": "light"
     },
     "output_type": "display_data"
    }
   ],
   "source": [
    "plot_barh_sorted_range_with_slice(_try_list, headers, TOP, 'Average rating of people who want to try', 'Response type - Category')"
   ]
  },
  {
   "cell_type": "code",
   "execution_count": 56,
   "metadata": {
    "execution": {
     "iopub.execute_input": "2021-04-02T01:41:14.197335Z",
     "iopub.status.busy": "2021-04-02T01:41:14.196350Z",
     "iopub.status.idle": "2021-04-02T01:41:14.421535Z",
     "shell.execute_reply": "2021-04-02T01:41:14.421980Z"
    },
    "papermill": {
     "duration": 0.316572,
     "end_time": "2021-04-02T01:41:14.422180",
     "exception": false,
     "start_time": "2021-04-02T01:41:14.105608",
     "status": "completed"
    },
    "tags": []
   },
   "outputs": [
    {
     "name": "stdout",
     "output_type": "stream",
     "text": [
      "**** Top 10 ****\n"
     ]
    },
    {
     "data": {
      "image/png": "[encoded data removed]",
      "text/plain": [
       "<Figure size 432x288 with 1 Axes>"
      ]
     },
     "metadata": {
      "needs_background": "light"
     },
     "output_type": "display_data"
    }
   ],
   "source": [
    "plot_barh_sorted_range_with_slice(spending_list, headers, TOP, 'Average amount($) people are ready to spend', 'Response type - Category')"
   ]
  },
  {
   "cell_type": "code",
   "execution_count": 57,
   "metadata": {
    "execution": {
     "iopub.execute_input": "2021-04-02T01:41:14.598286Z",
     "iopub.status.busy": "2021-04-02T01:41:14.597323Z",
     "iopub.status.idle": "2021-04-02T01:41:14.802632Z",
     "shell.execute_reply": "2021-04-02T01:41:14.803143Z"
    },
    "papermill": {
     "duration": 0.295068,
     "end_time": "2021-04-02T01:41:14.803343",
     "exception": false,
     "start_time": "2021-04-02T01:41:14.508275",
     "status": "completed"
    },
    "tags": []
   },
   "outputs": [
    {
     "name": "stdout",
     "output_type": "stream",
     "text": [
      "**** Top 10 ****\n"
     ]
    },
    {
     "data": {
      "image/png": "[encoded data removed]",
      "text/plain": [
       "<Figure size 432x288 with 1 Axes>"
      ]
     },
     "metadata": {
      "needs_background": "light"
     },
     "output_type": "display_data"
    }
   ],
   "source": [
    "plot_barh_sorted_range_with_slice(learn_list, headers, TOP, 'Percentage of people who want to learn', 'Response type - Category')"
   ]
  },
  {
   "cell_type": "markdown",
   "metadata": {
    "papermill": {
     "duration": 0.087806,
     "end_time": "2021-04-02T01:41:14.980088",
     "exception": false,
     "start_time": "2021-04-02T01:41:14.892282",
     "status": "completed"
    },
    "tags": []
   },
   "source": [
    "---\n",
    "\n",
    "I'll wrap things up there. If you want to find some other answers then go ahead `edit` this kernel. If you have any `questions` then do let me know.\n",
    "\n",
    "If this kernel helped you then don't forget to 🔼 `upvote` and share your 🎙 `feedback` on improvements of the kernel.\n",
    "\n",
    "![](https://media.giphy.com/media/l1J3CbFgn5o7DGRuE/giphy.gif)\n",
    "\n",
    "---"
   ]
  }
 ],
 "metadata": {
  "kernelspec": {
   "display_name": "Python 3",
   "language": "python",
   "name": "python3"
  },
  "language_info": {
   "codemirror_mode": {
    "name": "ipython",
    "version": 3
   },
   "file_extension": ".py",
   "mimetype": "text/x-python",
   "name": "python",
   "nbconvert_exporter": "python",
   "pygments_lexer": "ipython3",
   "version": "3.7.9"
  },
  "papermill": {
   "default_parameters": {},
   "duration": 42.139493,
   "end_time": "2021-04-02T01:41:16.735607",
   "environment_variables": {},
   "exception": null,
   "input_path": "__notebook__.ipynb",
   "output_path": "__notebook__.ipynb",
   "parameters": {},
   "start_time": "2021-04-02T01:40:34.596114",
   "version": "2.2.2"
  }
 },
 "nbformat": 4,
 "nbformat_minor": 4
}
